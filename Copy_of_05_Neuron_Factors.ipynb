{
  "nbformat": 4,
  "nbformat_minor": 0,
  "metadata": {
    "colab": {
      "name": "Copy of 05- Neuron Factors.ipynb",
      "provenance": [],
      "collapsed_sections": [],
      "include_colab_link": true
    },
    "kernelspec": {
      "name": "python3",
      "display_name": "Python 3"
    },
    "widgets": {
      "application/vnd.jupyter.widget-state+json": {
        "f09d4fc4ce124eeda3cb45e321d111ce": {
          "model_module": "@jupyter-widgets/controls",
          "model_name": "HBoxModel",
          "state": {
            "_view_name": "HBoxView",
            "_dom_classes": [],
            "_model_name": "HBoxModel",
            "_view_module": "@jupyter-widgets/controls",
            "_model_module_version": "1.5.0",
            "_view_count": null,
            "_view_module_version": "1.5.0",
            "box_style": "",
            "layout": "IPY_MODEL_21b1eb5e9d904a6fa7e993f114ace92a",
            "_model_module": "@jupyter-widgets/controls",
            "children": [
              "IPY_MODEL_fbf758cdad0445d28494d95bd7fe10fb",
              "IPY_MODEL_839978e0b3554c188e3aec98983573ce"
            ]
          }
        },
        "21b1eb5e9d904a6fa7e993f114ace92a": {
          "model_module": "@jupyter-widgets/base",
          "model_name": "LayoutModel",
          "state": {
            "_view_name": "LayoutView",
            "grid_template_rows": null,
            "right": null,
            "justify_content": null,
            "_view_module": "@jupyter-widgets/base",
            "overflow": null,
            "_model_module_version": "1.2.0",
            "_view_count": null,
            "flex_flow": null,
            "width": null,
            "min_width": null,
            "border": null,
            "align_items": null,
            "bottom": null,
            "_model_module": "@jupyter-widgets/base",
            "top": null,
            "grid_column": null,
            "overflow_y": null,
            "overflow_x": null,
            "grid_auto_flow": null,
            "grid_area": null,
            "grid_template_columns": null,
            "flex": null,
            "_model_name": "LayoutModel",
            "justify_items": null,
            "grid_row": null,
            "max_height": null,
            "align_content": null,
            "visibility": null,
            "align_self": null,
            "height": null,
            "min_height": null,
            "padding": null,
            "grid_auto_rows": null,
            "grid_gap": null,
            "max_width": null,
            "order": null,
            "_view_module_version": "1.2.0",
            "grid_template_areas": null,
            "object_position": null,
            "object_fit": null,
            "grid_auto_columns": null,
            "margin": null,
            "display": null,
            "left": null
          }
        },
        "fbf758cdad0445d28494d95bd7fe10fb": {
          "model_module": "@jupyter-widgets/controls",
          "model_name": "FloatProgressModel",
          "state": {
            "_view_name": "ProgressView",
            "style": "IPY_MODEL_d25c92359ffc45af99b797f0e0867407",
            "_dom_classes": [],
            "description": "Downloading: 100%",
            "_model_name": "FloatProgressModel",
            "bar_style": "success",
            "max": 762,
            "_view_module": "@jupyter-widgets/controls",
            "_model_module_version": "1.5.0",
            "value": 762,
            "_view_count": null,
            "_view_module_version": "1.5.0",
            "orientation": "horizontal",
            "min": 0,
            "description_tooltip": null,
            "_model_module": "@jupyter-widgets/controls",
            "layout": "IPY_MODEL_a17929e1fe2748d4bed26af11a3b9b59"
          }
        },
        "839978e0b3554c188e3aec98983573ce": {
          "model_module": "@jupyter-widgets/controls",
          "model_name": "HTMLModel",
          "state": {
            "_view_name": "HTMLView",
            "style": "IPY_MODEL_c53e195b63024efa899fc06ed19e9d2f",
            "_dom_classes": [],
            "description": "",
            "_model_name": "HTMLModel",
            "placeholder": "​",
            "_view_module": "@jupyter-widgets/controls",
            "_model_module_version": "1.5.0",
            "value": " 762/762 [00:00&lt;00:00, 1.11kB/s]",
            "_view_count": null,
            "_view_module_version": "1.5.0",
            "description_tooltip": null,
            "_model_module": "@jupyter-widgets/controls",
            "layout": "IPY_MODEL_4c759f92fcc64e6bb6752726187b818d"
          }
        },
        "d25c92359ffc45af99b797f0e0867407": {
          "model_module": "@jupyter-widgets/controls",
          "model_name": "ProgressStyleModel",
          "state": {
            "_view_name": "StyleView",
            "_model_name": "ProgressStyleModel",
            "description_width": "initial",
            "_view_module": "@jupyter-widgets/base",
            "_model_module_version": "1.5.0",
            "_view_count": null,
            "_view_module_version": "1.2.0",
            "bar_color": null,
            "_model_module": "@jupyter-widgets/controls"
          }
        },
        "a17929e1fe2748d4bed26af11a3b9b59": {
          "model_module": "@jupyter-widgets/base",
          "model_name": "LayoutModel",
          "state": {
            "_view_name": "LayoutView",
            "grid_template_rows": null,
            "right": null,
            "justify_content": null,
            "_view_module": "@jupyter-widgets/base",
            "overflow": null,
            "_model_module_version": "1.2.0",
            "_view_count": null,
            "flex_flow": null,
            "width": null,
            "min_width": null,
            "border": null,
            "align_items": null,
            "bottom": null,
            "_model_module": "@jupyter-widgets/base",
            "top": null,
            "grid_column": null,
            "overflow_y": null,
            "overflow_x": null,
            "grid_auto_flow": null,
            "grid_area": null,
            "grid_template_columns": null,
            "flex": null,
            "_model_name": "LayoutModel",
            "justify_items": null,
            "grid_row": null,
            "max_height": null,
            "align_content": null,
            "visibility": null,
            "align_self": null,
            "height": null,
            "min_height": null,
            "padding": null,
            "grid_auto_rows": null,
            "grid_gap": null,
            "max_width": null,
            "order": null,
            "_view_module_version": "1.2.0",
            "grid_template_areas": null,
            "object_position": null,
            "object_fit": null,
            "grid_auto_columns": null,
            "margin": null,
            "display": null,
            "left": null
          }
        },
        "c53e195b63024efa899fc06ed19e9d2f": {
          "model_module": "@jupyter-widgets/controls",
          "model_name": "DescriptionStyleModel",
          "state": {
            "_view_name": "StyleView",
            "_model_name": "DescriptionStyleModel",
            "description_width": "",
            "_view_module": "@jupyter-widgets/base",
            "_model_module_version": "1.5.0",
            "_view_count": null,
            "_view_module_version": "1.2.0",
            "_model_module": "@jupyter-widgets/controls"
          }
        },
        "4c759f92fcc64e6bb6752726187b818d": {
          "model_module": "@jupyter-widgets/base",
          "model_name": "LayoutModel",
          "state": {
            "_view_name": "LayoutView",
            "grid_template_rows": null,
            "right": null,
            "justify_content": null,
            "_view_module": "@jupyter-widgets/base",
            "overflow": null,
            "_model_module_version": "1.2.0",
            "_view_count": null,
            "flex_flow": null,
            "width": null,
            "min_width": null,
            "border": null,
            "align_items": null,
            "bottom": null,
            "_model_module": "@jupyter-widgets/base",
            "top": null,
            "grid_column": null,
            "overflow_y": null,
            "overflow_x": null,
            "grid_auto_flow": null,
            "grid_area": null,
            "grid_template_columns": null,
            "flex": null,
            "_model_name": "LayoutModel",
            "justify_items": null,
            "grid_row": null,
            "max_height": null,
            "align_content": null,
            "visibility": null,
            "align_self": null,
            "height": null,
            "min_height": null,
            "padding": null,
            "grid_auto_rows": null,
            "grid_gap": null,
            "max_width": null,
            "order": null,
            "_view_module_version": "1.2.0",
            "grid_template_areas": null,
            "object_position": null,
            "object_fit": null,
            "grid_auto_columns": null,
            "margin": null,
            "display": null,
            "left": null
          }
        },
        "44469fb017b343a9a4073d70512f3fa8": {
          "model_module": "@jupyter-widgets/controls",
          "model_name": "HBoxModel",
          "state": {
            "_view_name": "HBoxView",
            "_dom_classes": [],
            "_model_name": "HBoxModel",
            "_view_module": "@jupyter-widgets/controls",
            "_model_module_version": "1.5.0",
            "_view_count": null,
            "_view_module_version": "1.5.0",
            "box_style": "",
            "layout": "IPY_MODEL_1a965d402b7f4485bd165966109ab5e8",
            "_model_module": "@jupyter-widgets/controls",
            "children": [
              "IPY_MODEL_307eaa4c14d2440fb5c239f84b1403ed",
              "IPY_MODEL_bbbbdf69cc944de284d75540c0ed2658"
            ]
          }
        },
        "1a965d402b7f4485bd165966109ab5e8": {
          "model_module": "@jupyter-widgets/base",
          "model_name": "LayoutModel",
          "state": {
            "_view_name": "LayoutView",
            "grid_template_rows": null,
            "right": null,
            "justify_content": null,
            "_view_module": "@jupyter-widgets/base",
            "overflow": null,
            "_model_module_version": "1.2.0",
            "_view_count": null,
            "flex_flow": null,
            "width": null,
            "min_width": null,
            "border": null,
            "align_items": null,
            "bottom": null,
            "_model_module": "@jupyter-widgets/base",
            "top": null,
            "grid_column": null,
            "overflow_y": null,
            "overflow_x": null,
            "grid_auto_flow": null,
            "grid_area": null,
            "grid_template_columns": null,
            "flex": null,
            "_model_name": "LayoutModel",
            "justify_items": null,
            "grid_row": null,
            "max_height": null,
            "align_content": null,
            "visibility": null,
            "align_self": null,
            "height": null,
            "min_height": null,
            "padding": null,
            "grid_auto_rows": null,
            "grid_gap": null,
            "max_width": null,
            "order": null,
            "_view_module_version": "1.2.0",
            "grid_template_areas": null,
            "object_position": null,
            "object_fit": null,
            "grid_auto_columns": null,
            "margin": null,
            "display": null,
            "left": null
          }
        },
        "307eaa4c14d2440fb5c239f84b1403ed": {
          "model_module": "@jupyter-widgets/controls",
          "model_name": "FloatProgressModel",
          "state": {
            "_view_name": "ProgressView",
            "style": "IPY_MODEL_8b091460eae744078bbd0407f90dcf7e",
            "_dom_classes": [],
            "description": "Downloading: 100%",
            "_model_name": "FloatProgressModel",
            "bar_style": "success",
            "max": 1042301,
            "_view_module": "@jupyter-widgets/controls",
            "_model_module_version": "1.5.0",
            "value": 1042301,
            "_view_count": null,
            "_view_module_version": "1.5.0",
            "orientation": "horizontal",
            "min": 0,
            "description_tooltip": null,
            "_model_module": "@jupyter-widgets/controls",
            "layout": "IPY_MODEL_82b4c8a7461047d29a6186946c0661fb"
          }
        },
        "bbbbdf69cc944de284d75540c0ed2658": {
          "model_module": "@jupyter-widgets/controls",
          "model_name": "HTMLModel",
          "state": {
            "_view_name": "HTMLView",
            "style": "IPY_MODEL_3e27191981094cfb84f96c6c2052b3b8",
            "_dom_classes": [],
            "description": "",
            "_model_name": "HTMLModel",
            "placeholder": "​",
            "_view_module": "@jupyter-widgets/controls",
            "_model_module_version": "1.5.0",
            "value": " 1.04M/1.04M [00:00&lt;00:00, 2.35MB/s]",
            "_view_count": null,
            "_view_module_version": "1.5.0",
            "description_tooltip": null,
            "_model_module": "@jupyter-widgets/controls",
            "layout": "IPY_MODEL_593b3248fe9149bba416d033fc9763c9"
          }
        },
        "8b091460eae744078bbd0407f90dcf7e": {
          "model_module": "@jupyter-widgets/controls",
          "model_name": "ProgressStyleModel",
          "state": {
            "_view_name": "StyleView",
            "_model_name": "ProgressStyleModel",
            "description_width": "initial",
            "_view_module": "@jupyter-widgets/base",
            "_model_module_version": "1.5.0",
            "_view_count": null,
            "_view_module_version": "1.2.0",
            "bar_color": null,
            "_model_module": "@jupyter-widgets/controls"
          }
        },
        "82b4c8a7461047d29a6186946c0661fb": {
          "model_module": "@jupyter-widgets/base",
          "model_name": "LayoutModel",
          "state": {
            "_view_name": "LayoutView",
            "grid_template_rows": null,
            "right": null,
            "justify_content": null,
            "_view_module": "@jupyter-widgets/base",
            "overflow": null,
            "_model_module_version": "1.2.0",
            "_view_count": null,
            "flex_flow": null,
            "width": null,
            "min_width": null,
            "border": null,
            "align_items": null,
            "bottom": null,
            "_model_module": "@jupyter-widgets/base",
            "top": null,
            "grid_column": null,
            "overflow_y": null,
            "overflow_x": null,
            "grid_auto_flow": null,
            "grid_area": null,
            "grid_template_columns": null,
            "flex": null,
            "_model_name": "LayoutModel",
            "justify_items": null,
            "grid_row": null,
            "max_height": null,
            "align_content": null,
            "visibility": null,
            "align_self": null,
            "height": null,
            "min_height": null,
            "padding": null,
            "grid_auto_rows": null,
            "grid_gap": null,
            "max_width": null,
            "order": null,
            "_view_module_version": "1.2.0",
            "grid_template_areas": null,
            "object_position": null,
            "object_fit": null,
            "grid_auto_columns": null,
            "margin": null,
            "display": null,
            "left": null
          }
        },
        "3e27191981094cfb84f96c6c2052b3b8": {
          "model_module": "@jupyter-widgets/controls",
          "model_name": "DescriptionStyleModel",
          "state": {
            "_view_name": "StyleView",
            "_model_name": "DescriptionStyleModel",
            "description_width": "",
            "_view_module": "@jupyter-widgets/base",
            "_model_module_version": "1.5.0",
            "_view_count": null,
            "_view_module_version": "1.2.0",
            "_model_module": "@jupyter-widgets/controls"
          }
        },
        "593b3248fe9149bba416d033fc9763c9": {
          "model_module": "@jupyter-widgets/base",
          "model_name": "LayoutModel",
          "state": {
            "_view_name": "LayoutView",
            "grid_template_rows": null,
            "right": null,
            "justify_content": null,
            "_view_module": "@jupyter-widgets/base",
            "overflow": null,
            "_model_module_version": "1.2.0",
            "_view_count": null,
            "flex_flow": null,
            "width": null,
            "min_width": null,
            "border": null,
            "align_items": null,
            "bottom": null,
            "_model_module": "@jupyter-widgets/base",
            "top": null,
            "grid_column": null,
            "overflow_y": null,
            "overflow_x": null,
            "grid_auto_flow": null,
            "grid_area": null,
            "grid_template_columns": null,
            "flex": null,
            "_model_name": "LayoutModel",
            "justify_items": null,
            "grid_row": null,
            "max_height": null,
            "align_content": null,
            "visibility": null,
            "align_self": null,
            "height": null,
            "min_height": null,
            "padding": null,
            "grid_auto_rows": null,
            "grid_gap": null,
            "max_width": null,
            "order": null,
            "_view_module_version": "1.2.0",
            "grid_template_areas": null,
            "object_position": null,
            "object_fit": null,
            "grid_auto_columns": null,
            "margin": null,
            "display": null,
            "left": null
          }
        },
        "04550a80c96640d0b01cb876dea746e3": {
          "model_module": "@jupyter-widgets/controls",
          "model_name": "HBoxModel",
          "state": {
            "_view_name": "HBoxView",
            "_dom_classes": [],
            "_model_name": "HBoxModel",
            "_view_module": "@jupyter-widgets/controls",
            "_model_module_version": "1.5.0",
            "_view_count": null,
            "_view_module_version": "1.5.0",
            "box_style": "",
            "layout": "IPY_MODEL_f689ef73a988435b80dcd4491a00acc7",
            "_model_module": "@jupyter-widgets/controls",
            "children": [
              "IPY_MODEL_c03bf0251bc147ba9243489f226f7085",
              "IPY_MODEL_e1e830f76b144f2b8c5f8a9ee8a7f314"
            ]
          }
        },
        "f689ef73a988435b80dcd4491a00acc7": {
          "model_module": "@jupyter-widgets/base",
          "model_name": "LayoutModel",
          "state": {
            "_view_name": "LayoutView",
            "grid_template_rows": null,
            "right": null,
            "justify_content": null,
            "_view_module": "@jupyter-widgets/base",
            "overflow": null,
            "_model_module_version": "1.2.0",
            "_view_count": null,
            "flex_flow": null,
            "width": null,
            "min_width": null,
            "border": null,
            "align_items": null,
            "bottom": null,
            "_model_module": "@jupyter-widgets/base",
            "top": null,
            "grid_column": null,
            "overflow_y": null,
            "overflow_x": null,
            "grid_auto_flow": null,
            "grid_area": null,
            "grid_template_columns": null,
            "flex": null,
            "_model_name": "LayoutModel",
            "justify_items": null,
            "grid_row": null,
            "max_height": null,
            "align_content": null,
            "visibility": null,
            "align_self": null,
            "height": null,
            "min_height": null,
            "padding": null,
            "grid_auto_rows": null,
            "grid_gap": null,
            "max_width": null,
            "order": null,
            "_view_module_version": "1.2.0",
            "grid_template_areas": null,
            "object_position": null,
            "object_fit": null,
            "grid_auto_columns": null,
            "margin": null,
            "display": null,
            "left": null
          }
        },
        "c03bf0251bc147ba9243489f226f7085": {
          "model_module": "@jupyter-widgets/controls",
          "model_name": "FloatProgressModel",
          "state": {
            "_view_name": "ProgressView",
            "style": "IPY_MODEL_756b0b5c522d4438bfdd91f4866f2bdf",
            "_dom_classes": [],
            "description": "Downloading: 100%",
            "_model_name": "FloatProgressModel",
            "bar_style": "success",
            "max": 456318,
            "_view_module": "@jupyter-widgets/controls",
            "_model_module_version": "1.5.0",
            "value": 456318,
            "_view_count": null,
            "_view_module_version": "1.5.0",
            "orientation": "horizontal",
            "min": 0,
            "description_tooltip": null,
            "_model_module": "@jupyter-widgets/controls",
            "layout": "IPY_MODEL_bce6b866322240248ff2559ae5f1d493"
          }
        },
        "e1e830f76b144f2b8c5f8a9ee8a7f314": {
          "model_module": "@jupyter-widgets/controls",
          "model_name": "HTMLModel",
          "state": {
            "_view_name": "HTMLView",
            "style": "IPY_MODEL_b164d610697e4f1eaa4c334c86fd25be",
            "_dom_classes": [],
            "description": "",
            "_model_name": "HTMLModel",
            "placeholder": "​",
            "_view_module": "@jupyter-widgets/controls",
            "_model_module_version": "1.5.0",
            "value": " 456k/456k [00:00&lt;00:00, 2.85MB/s]",
            "_view_count": null,
            "_view_module_version": "1.5.0",
            "description_tooltip": null,
            "_model_module": "@jupyter-widgets/controls",
            "layout": "IPY_MODEL_9ef8527cbbf248d8800c9e37a89a8a28"
          }
        },
        "756b0b5c522d4438bfdd91f4866f2bdf": {
          "model_module": "@jupyter-widgets/controls",
          "model_name": "ProgressStyleModel",
          "state": {
            "_view_name": "StyleView",
            "_model_name": "ProgressStyleModel",
            "description_width": "initial",
            "_view_module": "@jupyter-widgets/base",
            "_model_module_version": "1.5.0",
            "_view_count": null,
            "_view_module_version": "1.2.0",
            "bar_color": null,
            "_model_module": "@jupyter-widgets/controls"
          }
        },
        "bce6b866322240248ff2559ae5f1d493": {
          "model_module": "@jupyter-widgets/base",
          "model_name": "LayoutModel",
          "state": {
            "_view_name": "LayoutView",
            "grid_template_rows": null,
            "right": null,
            "justify_content": null,
            "_view_module": "@jupyter-widgets/base",
            "overflow": null,
            "_model_module_version": "1.2.0",
            "_view_count": null,
            "flex_flow": null,
            "width": null,
            "min_width": null,
            "border": null,
            "align_items": null,
            "bottom": null,
            "_model_module": "@jupyter-widgets/base",
            "top": null,
            "grid_column": null,
            "overflow_y": null,
            "overflow_x": null,
            "grid_auto_flow": null,
            "grid_area": null,
            "grid_template_columns": null,
            "flex": null,
            "_model_name": "LayoutModel",
            "justify_items": null,
            "grid_row": null,
            "max_height": null,
            "align_content": null,
            "visibility": null,
            "align_self": null,
            "height": null,
            "min_height": null,
            "padding": null,
            "grid_auto_rows": null,
            "grid_gap": null,
            "max_width": null,
            "order": null,
            "_view_module_version": "1.2.0",
            "grid_template_areas": null,
            "object_position": null,
            "object_fit": null,
            "grid_auto_columns": null,
            "margin": null,
            "display": null,
            "left": null
          }
        },
        "b164d610697e4f1eaa4c334c86fd25be": {
          "model_module": "@jupyter-widgets/controls",
          "model_name": "DescriptionStyleModel",
          "state": {
            "_view_name": "StyleView",
            "_model_name": "DescriptionStyleModel",
            "description_width": "",
            "_view_module": "@jupyter-widgets/base",
            "_model_module_version": "1.5.0",
            "_view_count": null,
            "_view_module_version": "1.2.0",
            "_model_module": "@jupyter-widgets/controls"
          }
        },
        "9ef8527cbbf248d8800c9e37a89a8a28": {
          "model_module": "@jupyter-widgets/base",
          "model_name": "LayoutModel",
          "state": {
            "_view_name": "LayoutView",
            "grid_template_rows": null,
            "right": null,
            "justify_content": null,
            "_view_module": "@jupyter-widgets/base",
            "overflow": null,
            "_model_module_version": "1.2.0",
            "_view_count": null,
            "flex_flow": null,
            "width": null,
            "min_width": null,
            "border": null,
            "align_items": null,
            "bottom": null,
            "_model_module": "@jupyter-widgets/base",
            "top": null,
            "grid_column": null,
            "overflow_y": null,
            "overflow_x": null,
            "grid_auto_flow": null,
            "grid_area": null,
            "grid_template_columns": null,
            "flex": null,
            "_model_name": "LayoutModel",
            "justify_items": null,
            "grid_row": null,
            "max_height": null,
            "align_content": null,
            "visibility": null,
            "align_self": null,
            "height": null,
            "min_height": null,
            "padding": null,
            "grid_auto_rows": null,
            "grid_gap": null,
            "max_width": null,
            "order": null,
            "_view_module_version": "1.2.0",
            "grid_template_areas": null,
            "object_position": null,
            "object_fit": null,
            "grid_auto_columns": null,
            "margin": null,
            "display": null,
            "left": null
          }
        },
        "9ec6120be1534fecb1a772a302b72cb8": {
          "model_module": "@jupyter-widgets/controls",
          "model_name": "HBoxModel",
          "state": {
            "_view_name": "HBoxView",
            "_dom_classes": [],
            "_model_name": "HBoxModel",
            "_view_module": "@jupyter-widgets/controls",
            "_model_module_version": "1.5.0",
            "_view_count": null,
            "_view_module_version": "1.5.0",
            "box_style": "",
            "layout": "IPY_MODEL_3ad3fc63100d45c3983257f8a476f709",
            "_model_module": "@jupyter-widgets/controls",
            "children": [
              "IPY_MODEL_0b02ab17c4044986a4e60aa8278069ca",
              "IPY_MODEL_7e40cf090314432cb99ad36fabbda2ad"
            ]
          }
        },
        "3ad3fc63100d45c3983257f8a476f709": {
          "model_module": "@jupyter-widgets/base",
          "model_name": "LayoutModel",
          "state": {
            "_view_name": "LayoutView",
            "grid_template_rows": null,
            "right": null,
            "justify_content": null,
            "_view_module": "@jupyter-widgets/base",
            "overflow": null,
            "_model_module_version": "1.2.0",
            "_view_count": null,
            "flex_flow": null,
            "width": null,
            "min_width": null,
            "border": null,
            "align_items": null,
            "bottom": null,
            "_model_module": "@jupyter-widgets/base",
            "top": null,
            "grid_column": null,
            "overflow_y": null,
            "overflow_x": null,
            "grid_auto_flow": null,
            "grid_area": null,
            "grid_template_columns": null,
            "flex": null,
            "_model_name": "LayoutModel",
            "justify_items": null,
            "grid_row": null,
            "max_height": null,
            "align_content": null,
            "visibility": null,
            "align_self": null,
            "height": null,
            "min_height": null,
            "padding": null,
            "grid_auto_rows": null,
            "grid_gap": null,
            "max_width": null,
            "order": null,
            "_view_module_version": "1.2.0",
            "grid_template_areas": null,
            "object_position": null,
            "object_fit": null,
            "grid_auto_columns": null,
            "margin": null,
            "display": null,
            "left": null
          }
        },
        "0b02ab17c4044986a4e60aa8278069ca": {
          "model_module": "@jupyter-widgets/controls",
          "model_name": "FloatProgressModel",
          "state": {
            "_view_name": "ProgressView",
            "style": "IPY_MODEL_0ce13b7648094df0b3cd5efd1369633c",
            "_dom_classes": [],
            "description": "Downloading: 100%",
            "_model_name": "FloatProgressModel",
            "bar_style": "success",
            "max": 352833716,
            "_view_module": "@jupyter-widgets/controls",
            "_model_module_version": "1.5.0",
            "value": 352833716,
            "_view_count": null,
            "_view_module_version": "1.5.0",
            "orientation": "horizontal",
            "min": 0,
            "description_tooltip": null,
            "_model_module": "@jupyter-widgets/controls",
            "layout": "IPY_MODEL_58c4b12ea73e43ceb39a7f282fd94a1c"
          }
        },
        "7e40cf090314432cb99ad36fabbda2ad": {
          "model_module": "@jupyter-widgets/controls",
          "model_name": "HTMLModel",
          "state": {
            "_view_name": "HTMLView",
            "style": "IPY_MODEL_b232f6df802e463d98bbdf57273e9cb8",
            "_dom_classes": [],
            "description": "",
            "_model_name": "HTMLModel",
            "placeholder": "​",
            "_view_module": "@jupyter-widgets/controls",
            "_model_module_version": "1.5.0",
            "value": " 353M/353M [00:15&lt;00:00, 22.3MB/s]",
            "_view_count": null,
            "_view_module_version": "1.5.0",
            "description_tooltip": null,
            "_model_module": "@jupyter-widgets/controls",
            "layout": "IPY_MODEL_69f928f95dc84205a2ecedf36b38ef77"
          }
        },
        "0ce13b7648094df0b3cd5efd1369633c": {
          "model_module": "@jupyter-widgets/controls",
          "model_name": "ProgressStyleModel",
          "state": {
            "_view_name": "StyleView",
            "_model_name": "ProgressStyleModel",
            "description_width": "initial",
            "_view_module": "@jupyter-widgets/base",
            "_model_module_version": "1.5.0",
            "_view_count": null,
            "_view_module_version": "1.2.0",
            "bar_color": null,
            "_model_module": "@jupyter-widgets/controls"
          }
        },
        "58c4b12ea73e43ceb39a7f282fd94a1c": {
          "model_module": "@jupyter-widgets/base",
          "model_name": "LayoutModel",
          "state": {
            "_view_name": "LayoutView",
            "grid_template_rows": null,
            "right": null,
            "justify_content": null,
            "_view_module": "@jupyter-widgets/base",
            "overflow": null,
            "_model_module_version": "1.2.0",
            "_view_count": null,
            "flex_flow": null,
            "width": null,
            "min_width": null,
            "border": null,
            "align_items": null,
            "bottom": null,
            "_model_module": "@jupyter-widgets/base",
            "top": null,
            "grid_column": null,
            "overflow_y": null,
            "overflow_x": null,
            "grid_auto_flow": null,
            "grid_area": null,
            "grid_template_columns": null,
            "flex": null,
            "_model_name": "LayoutModel",
            "justify_items": null,
            "grid_row": null,
            "max_height": null,
            "align_content": null,
            "visibility": null,
            "align_self": null,
            "height": null,
            "min_height": null,
            "padding": null,
            "grid_auto_rows": null,
            "grid_gap": null,
            "max_width": null,
            "order": null,
            "_view_module_version": "1.2.0",
            "grid_template_areas": null,
            "object_position": null,
            "object_fit": null,
            "grid_auto_columns": null,
            "margin": null,
            "display": null,
            "left": null
          }
        },
        "b232f6df802e463d98bbdf57273e9cb8": {
          "model_module": "@jupyter-widgets/controls",
          "model_name": "DescriptionStyleModel",
          "state": {
            "_view_name": "StyleView",
            "_model_name": "DescriptionStyleModel",
            "description_width": "",
            "_view_module": "@jupyter-widgets/base",
            "_model_module_version": "1.5.0",
            "_view_count": null,
            "_view_module_version": "1.2.0",
            "_model_module": "@jupyter-widgets/controls"
          }
        },
        "69f928f95dc84205a2ecedf36b38ef77": {
          "model_module": "@jupyter-widgets/base",
          "model_name": "LayoutModel",
          "state": {
            "_view_name": "LayoutView",
            "grid_template_rows": null,
            "right": null,
            "justify_content": null,
            "_view_module": "@jupyter-widgets/base",
            "overflow": null,
            "_model_module_version": "1.2.0",
            "_view_count": null,
            "flex_flow": null,
            "width": null,
            "min_width": null,
            "border": null,
            "align_items": null,
            "bottom": null,
            "_model_module": "@jupyter-widgets/base",
            "top": null,
            "grid_column": null,
            "overflow_y": null,
            "overflow_x": null,
            "grid_auto_flow": null,
            "grid_area": null,
            "grid_template_columns": null,
            "flex": null,
            "_model_name": "LayoutModel",
            "justify_items": null,
            "grid_row": null,
            "max_height": null,
            "align_content": null,
            "visibility": null,
            "align_self": null,
            "height": null,
            "min_height": null,
            "padding": null,
            "grid_auto_rows": null,
            "grid_gap": null,
            "max_width": null,
            "order": null,
            "_view_module_version": "1.2.0",
            "grid_template_areas": null,
            "object_position": null,
            "object_fit": null,
            "grid_auto_columns": null,
            "margin": null,
            "display": null,
            "left": null
          }
        }
      }
    }
  },
  "cells": [
    {
      "cell_type": "markdown",
      "metadata": {
        "id": "view-in-github",
        "colab_type": "text"
      },
      "source": [
        "<a href=\"https://colab.research.google.com/github/InquilineKea/AstroHackWeek2015/blob/master/Copy_of_05_Neuron_Factors.ipynb\" target=\"_parent\"><img src=\"https://colab.research.google.com/assets/colab-badge.svg\" alt=\"Open In Colab\"/></a>"
      ]
    },
    {
      "cell_type": "code",
      "metadata": {
        "id": "CLDsAru2N0lr"
      },
      "source": [
        "!pip install ecco"
      ],
      "execution_count": null,
      "outputs": []
    },
    {
      "cell_type": "code",
      "metadata": {
        "id": "sknc5dj3N1LS",
        "colab": {
          "base_uri": "https://localhost:8080/",
          "height": 215,
          "referenced_widgets": [
            "f09d4fc4ce124eeda3cb45e321d111ce",
            "21b1eb5e9d904a6fa7e993f114ace92a",
            "fbf758cdad0445d28494d95bd7fe10fb",
            "839978e0b3554c188e3aec98983573ce",
            "d25c92359ffc45af99b797f0e0867407",
            "a17929e1fe2748d4bed26af11a3b9b59",
            "c53e195b63024efa899fc06ed19e9d2f",
            "4c759f92fcc64e6bb6752726187b818d",
            "44469fb017b343a9a4073d70512f3fa8",
            "1a965d402b7f4485bd165966109ab5e8",
            "307eaa4c14d2440fb5c239f84b1403ed",
            "bbbbdf69cc944de284d75540c0ed2658",
            "8b091460eae744078bbd0407f90dcf7e",
            "82b4c8a7461047d29a6186946c0661fb",
            "3e27191981094cfb84f96c6c2052b3b8",
            "593b3248fe9149bba416d033fc9763c9",
            "04550a80c96640d0b01cb876dea746e3",
            "f689ef73a988435b80dcd4491a00acc7",
            "c03bf0251bc147ba9243489f226f7085",
            "e1e830f76b144f2b8c5f8a9ee8a7f314",
            "756b0b5c522d4438bfdd91f4866f2bdf",
            "bce6b866322240248ff2559ae5f1d493",
            "b164d610697e4f1eaa4c334c86fd25be",
            "9ef8527cbbf248d8800c9e37a89a8a28",
            "9ec6120be1534fecb1a772a302b72cb8",
            "3ad3fc63100d45c3983257f8a476f709",
            "0b02ab17c4044986a4e60aa8278069ca",
            "7e40cf090314432cb99ad36fabbda2ad",
            "0ce13b7648094df0b3cd5efd1369633c",
            "58c4b12ea73e43ceb39a7f282fd94a1c",
            "b232f6df802e463d98bbdf57273e9cb8",
            "69f928f95dc84205a2ecedf36b38ef77"
          ]
        },
        "outputId": "8b34efb9-c2ae-4041-9f86-f4b8c0252580"
      },
      "source": [
        "import ecco\n",
        "lm = ecco.from_pretrained('distilgpt2', activations=True)"
      ],
      "execution_count": null,
      "outputs": [
        {
          "output_type": "display_data",
          "data": {
            "application/vnd.jupyter.widget-view+json": {
              "model_id": "f09d4fc4ce124eeda3cb45e321d111ce",
              "version_minor": 0,
              "version_major": 2
            },
            "text/plain": [
              "HBox(children=(FloatProgress(value=0.0, description='Downloading', max=762.0, style=ProgressStyle(description_…"
            ]
          },
          "metadata": {
            "tags": []
          }
        },
        {
          "output_type": "stream",
          "text": [
            "\n"
          ],
          "name": "stdout"
        },
        {
          "output_type": "display_data",
          "data": {
            "application/vnd.jupyter.widget-view+json": {
              "model_id": "44469fb017b343a9a4073d70512f3fa8",
              "version_minor": 0,
              "version_major": 2
            },
            "text/plain": [
              "HBox(children=(FloatProgress(value=0.0, description='Downloading', max=1042301.0, style=ProgressStyle(descript…"
            ]
          },
          "metadata": {
            "tags": []
          }
        },
        {
          "output_type": "stream",
          "text": [
            "\n"
          ],
          "name": "stdout"
        },
        {
          "output_type": "display_data",
          "data": {
            "application/vnd.jupyter.widget-view+json": {
              "model_id": "04550a80c96640d0b01cb876dea746e3",
              "version_minor": 0,
              "version_major": 2
            },
            "text/plain": [
              "HBox(children=(FloatProgress(value=0.0, description='Downloading', max=456318.0, style=ProgressStyle(descripti…"
            ]
          },
          "metadata": {
            "tags": []
          }
        },
        {
          "output_type": "stream",
          "text": [
            "\n"
          ],
          "name": "stdout"
        },
        {
          "output_type": "display_data",
          "data": {
            "application/vnd.jupyter.widget-view+json": {
              "model_id": "9ec6120be1534fecb1a772a302b72cb8",
              "version_minor": 0,
              "version_major": 2
            },
            "text/plain": [
              "HBox(children=(FloatProgress(value=0.0, description='Downloading', max=352833716.0, style=ProgressStyle(descri…"
            ]
          },
          "metadata": {
            "tags": []
          }
        },
        {
          "output_type": "stream",
          "text": [
            "\n"
          ],
          "name": "stdout"
        }
      ]
    },
    {
      "cell_type": "code",
      "metadata": {
        "id": "CO4Q942SN2wM",
        "colab": {
          "base_uri": "https://localhost:8080/",
          "height": 777
        },
        "outputId": "cc6fe516-b8b5-49a7-c956-90d6c18f9120"
      },
      "source": [
        "text = ''' Now I ask you: what can be expected of man since he is a being endowed with strange qualities? Shower upon him every earthly blessing, drown him in a sea of happiness, so that nothing but bubbles of bliss can be seen on the surface; give him economic prosperity, such that he should have nothing else to do but sleep, eat cakes and busy himself with the continuation of his species, and even then out of sheer ingratitude, sheer spite, man would play you some nasty trick. He would even risk his cakes and would deliberately desire the most fatal rubbish, the most uneconomical absurdity, simply to introduce into all this positive good sense his fatal fantastic element. It is just his fantastic dreams, his vulgar folly that he will desire to retain, simply in order to prove to himself--as though that were so necessary-- that men still are men and not the keys of a piano, which the laws of nature threaten to control so completely that soon one will be able to desire nothing but by the calendar. And that is not all: even if man really were nothing but a piano-key, even if this were proved to him by natural science and mathematics, even then he would not become reasonable, but would purposely do something perverse out of simple ingratitude, simply to gain his point. And if he does not find means he will contrive destruction and chaos, will contrive sufferings of all sorts, only to gain his point! He will launch a curse upon the world, and as only man can curse (it is his privilege, the primary distinction between him and other animals), may be by his curse alone he will attain his object--that is, convince himself that he is a man and not a piano-key!\n",
        "'''\n",
        "output = lm.generate(text, generate=1, do_sample=True)"
      ],
      "execution_count": null,
      "outputs": [
        {
          "output_type": "display_data",
          "data": {
            "text/html": [
              "<html lang=\"en\">\n",
              "<script src=\"https://requirejs.org/docs/release/2.3.6/minified/require.js\"></script>\n",
              "<script>\n",
              "    var ecco_url = 'https://storage.googleapis.com/ml-intro/ecco/'\n",
              "    // var ecco_url = 'http://localhost:8000/ecco/'\n",
              "\n",
              "    if (window.ecco === undefined) window.ecco = {}\n",
              "\n",
              "    requirejs.config({\n",
              "        urlArgs: \"bust=\" + (new Date()).getTime(),\n",
              "        nodeRequire: require,\n",
              "        paths: {\n",
              "            d3: \"https://d3js.org/d3.v5.min\",\n",
              "            \"d3-array\": \"https://d3js.org/d3-array.v2.min\",\n",
              "            jquery: \"https://code.jquery.com/jquery-3.5.1.min\",\n",
              "            // oldEcco: ecco_url + 'ecco',\n",
              "            ecco: ecco_url + 'js/0.0.4/ecco-bundle.min',\n",
              "            xregexp: 'https://cdnjs.cloudflare.com/ajax/libs/xregexp/3.2.0/xregexp-all.min'\n",
              "        }\n",
              "    });\n",
              "    requirejs(['d3'],\n",
              "        function (d3) {\n",
              "            d3.select('#css').attr('href', ecco_url + 'html/styles.css')\n",
              "        })\n",
              "\n",
              "    console.log('Ecco initialize.')\n",
              "</script>\n",
              "\n",
              "<head>\n",
              "    <link id='css' rel=\"stylesheet\" type=\"text/css\">\n",
              "</head>\n"
            ],
            "text/plain": [
              "<IPython.core.display.HTML object>"
            ]
          },
          "metadata": {
            "tags": []
          }
        },
        {
          "output_type": "display_data",
          "data": {
            "text/html": [
              "<script>\n",
              "    // console.log('defining basic')\n",
              "    define('basic', ['d3'],\n",
              "        function (d3) {\n",
              "            return {\n",
              "                init: function (viz_id = null) {\n",
              "\n",
              "                    // console.log('basic init')\n",
              "                    if (viz_id == null){\n",
              "                        viz_id = \"viz_\" + Math.round(Math.random() * 10000000)\n",
              "                    }\n",
              "                    const div = d3.select('#basic').attr('id', viz_id),\n",
              "                        div_parent = d3.select('#' + viz_id).node().parentNode\n",
              "\n",
              "                    // Link to CSS file\n",
              "                    d3.select(div_parent).insert('link')\n",
              "                        .attr('rel', 'stylesheet')\n",
              "                        .attr('type', 'text/css')\n",
              "                        .attr('href', ecco_url + 'html/styles.css')\n",
              "\n",
              "                    return viz_id\n",
              "                }\n",
              "            }\n",
              "        }, function (err) {console.log(err);}\n",
              "    )\n",
              "    // console.log('after defining basic')\n",
              "\n",
              "</script>\n",
              "<div id=\"basic\"></div>\n"
            ],
            "text/plain": [
              "<IPython.core.display.HTML object>"
            ]
          },
          "metadata": {
            "tags": []
          }
        },
        {
          "output_type": "display_data",
          "data": {
            "application/javascript": [
              "\n",
              "\n",
              "         requirejs( ['basic', 'ecco'], function(basic, ecco){\n",
              "            basic.init('viz_590336')\n",
              "\n",
              "            window.ecco['viz_590336'] = ecco.renderOutputSequence('viz_590336', {'tokens': [{'token': ' Now', 'position': 0, 'token_id': 2735, 'type': 'input'}, {'token': ' I', 'position': 1, 'token_id': 314, 'type': 'input'}, {'token': ' ask', 'position': 2, 'token_id': 1265, 'type': 'input'}, {'token': ' you', 'position': 3, 'token_id': 345, 'type': 'input'}, {'token': ':', 'position': 4, 'token_id': 25, 'type': 'input'}, {'token': ' what', 'position': 5, 'token_id': 644, 'type': 'input'}, {'token': ' can', 'position': 6, 'token_id': 460, 'type': 'input'}, {'token': ' be', 'position': 7, 'token_id': 307, 'type': 'input'}, {'token': ' expected', 'position': 8, 'token_id': 2938, 'type': 'input'}, {'token': ' of', 'position': 9, 'token_id': 286, 'type': 'input'}, {'token': ' man', 'position': 10, 'token_id': 582, 'type': 'input'}, {'token': ' since', 'position': 11, 'token_id': 1201, 'type': 'input'}, {'token': ' he', 'position': 12, 'token_id': 339, 'type': 'input'}, {'token': ' is', 'position': 13, 'token_id': 318, 'type': 'input'}, {'token': ' a', 'position': 14, 'token_id': 257, 'type': 'input'}, {'token': ' being', 'position': 15, 'token_id': 852, 'type': 'input'}, {'token': ' endowed', 'position': 16, 'token_id': 44134, 'type': 'input'}, {'token': ' with', 'position': 17, 'token_id': 351, 'type': 'input'}, {'token': ' strange', 'position': 18, 'token_id': 6283, 'type': 'input'}, {'token': ' qualities', 'position': 19, 'token_id': 14482, 'type': 'input'}, {'token': '?', 'position': 20, 'token_id': 30, 'type': 'input'}, {'token': ' Sh', 'position': 21, 'token_id': 911, 'type': 'input'}, {'token': 'ower', 'position': 22, 'token_id': 789, 'type': 'input'}, {'token': ' upon', 'position': 23, 'token_id': 2402, 'type': 'input'}, {'token': ' him', 'position': 24, 'token_id': 683, 'type': 'input'}, {'token': ' every', 'position': 25, 'token_id': 790, 'type': 'input'}, {'token': ' earthly', 'position': 26, 'token_id': 39892, 'type': 'input'}, {'token': ' blessing', 'position': 27, 'token_id': 20027, 'type': 'input'}, {'token': ',', 'position': 28, 'token_id': 11, 'type': 'input'}, {'token': ' drown', 'position': 29, 'token_id': 16398, 'type': 'input'}, {'token': ' him', 'position': 30, 'token_id': 683, 'type': 'input'}, {'token': ' in', 'position': 31, 'token_id': 287, 'type': 'input'}, {'token': ' a', 'position': 32, 'token_id': 257, 'type': 'input'}, {'token': ' sea', 'position': 33, 'token_id': 5417, 'type': 'input'}, {'token': ' of', 'position': 34, 'token_id': 286, 'type': 'input'}, {'token': ' happiness', 'position': 35, 'token_id': 12157, 'type': 'input'}, {'token': ',', 'position': 36, 'token_id': 11, 'type': 'input'}, {'token': ' so', 'position': 37, 'token_id': 523, 'type': 'input'}, {'token': ' that', 'position': 38, 'token_id': 326, 'type': 'input'}, {'token': ' nothing', 'position': 39, 'token_id': 2147, 'type': 'input'}, {'token': ' but', 'position': 40, 'token_id': 475, 'type': 'input'}, {'token': ' bubbles', 'position': 41, 'token_id': 25037, 'type': 'input'}, {'token': ' of', 'position': 42, 'token_id': 286, 'type': 'input'}, {'token': ' bliss', 'position': 43, 'token_id': 30533, 'type': 'input'}, {'token': ' can', 'position': 44, 'token_id': 460, 'type': 'input'}, {'token': ' be', 'position': 45, 'token_id': 307, 'type': 'input'}, {'token': ' seen', 'position': 46, 'token_id': 1775, 'type': 'input'}, {'token': ' on', 'position': 47, 'token_id': 319, 'type': 'input'}, {'token': ' the', 'position': 48, 'token_id': 262, 'type': 'input'}, {'token': ' surface', 'position': 49, 'token_id': 4417, 'type': 'input'}, {'token': ';', 'position': 50, 'token_id': 26, 'type': 'input'}, {'token': ' give', 'position': 51, 'token_id': 1577, 'type': 'input'}, {'token': ' him', 'position': 52, 'token_id': 683, 'type': 'input'}, {'token': ' economic', 'position': 53, 'token_id': 3034, 'type': 'input'}, {'token': ' prosperity', 'position': 54, 'token_id': 19519, 'type': 'input'}, {'token': ',', 'position': 55, 'token_id': 11, 'type': 'input'}, {'token': ' such', 'position': 56, 'token_id': 884, 'type': 'input'}, {'token': ' that', 'position': 57, 'token_id': 326, 'type': 'input'}, {'token': ' he', 'position': 58, 'token_id': 339, 'type': 'input'}, {'token': ' should', 'position': 59, 'token_id': 815, 'type': 'input'}, {'token': ' have', 'position': 60, 'token_id': 423, 'type': 'input'}, {'token': ' nothing', 'position': 61, 'token_id': 2147, 'type': 'input'}, {'token': ' else', 'position': 62, 'token_id': 2073, 'type': 'input'}, {'token': ' to', 'position': 63, 'token_id': 284, 'type': 'input'}, {'token': ' do', 'position': 64, 'token_id': 466, 'type': 'input'}, {'token': ' but', 'position': 65, 'token_id': 475, 'type': 'input'}, {'token': ' sleep', 'position': 66, 'token_id': 3993, 'type': 'input'}, {'token': ',', 'position': 67, 'token_id': 11, 'type': 'input'}, {'token': ' eat', 'position': 68, 'token_id': 4483, 'type': 'input'}, {'token': ' cakes', 'position': 69, 'token_id': 30849, 'type': 'input'}, {'token': ' and', 'position': 70, 'token_id': 290, 'type': 'input'}, {'token': ' busy', 'position': 71, 'token_id': 8179, 'type': 'input'}, {'token': ' himself', 'position': 72, 'token_id': 2241, 'type': 'input'}, {'token': ' with', 'position': 73, 'token_id': 351, 'type': 'input'}, {'token': ' the', 'position': 74, 'token_id': 262, 'type': 'input'}, {'token': ' continuation', 'position': 75, 'token_id': 24659, 'type': 'input'}, {'token': ' of', 'position': 76, 'token_id': 286, 'type': 'input'}, {'token': ' his', 'position': 77, 'token_id': 465, 'type': 'input'}, {'token': ' species', 'position': 78, 'token_id': 4693, 'type': 'input'}, {'token': ',', 'position': 79, 'token_id': 11, 'type': 'input'}, {'token': ' and', 'position': 80, 'token_id': 290, 'type': 'input'}, {'token': ' even', 'position': 81, 'token_id': 772, 'type': 'input'}, {'token': ' then', 'position': 82, 'token_id': 788, 'type': 'input'}, {'token': ' out', 'position': 83, 'token_id': 503, 'type': 'input'}, {'token': ' of', 'position': 84, 'token_id': 286, 'type': 'input'}, {'token': ' sheer', 'position': 85, 'token_id': 15163, 'type': 'input'}, {'token': ' ing', 'position': 86, 'token_id': 5347, 'type': 'input'}, {'token': 'rat', 'position': 87, 'token_id': 10366, 'type': 'input'}, {'token': 'itude', 'position': 88, 'token_id': 3984, 'type': 'input'}, {'token': ',', 'position': 89, 'token_id': 11, 'type': 'input'}, {'token': ' sheer', 'position': 90, 'token_id': 15163, 'type': 'input'}, {'token': ' spite', 'position': 91, 'token_id': 15275, 'type': 'input'}, {'token': ',', 'position': 92, 'token_id': 11, 'type': 'input'}, {'token': ' man', 'position': 93, 'token_id': 582, 'type': 'input'}, {'token': ' would', 'position': 94, 'token_id': 561, 'type': 'input'}, {'token': ' play', 'position': 95, 'token_id': 711, 'type': 'input'}, {'token': ' you', 'position': 96, 'token_id': 345, 'type': 'input'}, {'token': ' some', 'position': 97, 'token_id': 617, 'type': 'input'}, {'token': ' nasty', 'position': 98, 'token_id': 17166, 'type': 'input'}, {'token': ' trick', 'position': 99, 'token_id': 6908, 'type': 'input'}, {'token': '.', 'position': 100, 'token_id': 13, 'type': 'input'}, {'token': ' He', 'position': 101, 'token_id': 679, 'type': 'input'}, {'token': ' would', 'position': 102, 'token_id': 561, 'type': 'input'}, {'token': ' even', 'position': 103, 'token_id': 772, 'type': 'input'}, {'token': ' risk', 'position': 104, 'token_id': 2526, 'type': 'input'}, {'token': ' his', 'position': 105, 'token_id': 465, 'type': 'input'}, {'token': ' cakes', 'position': 106, 'token_id': 30849, 'type': 'input'}, {'token': ' and', 'position': 107, 'token_id': 290, 'type': 'input'}, {'token': ' would', 'position': 108, 'token_id': 561, 'type': 'input'}, {'token': ' deliberately', 'position': 109, 'token_id': 14593, 'type': 'input'}, {'token': ' desire', 'position': 110, 'token_id': 6227, 'type': 'input'}, {'token': ' the', 'position': 111, 'token_id': 262, 'type': 'input'}, {'token': ' most', 'position': 112, 'token_id': 749, 'type': 'input'}, {'token': ' fatal', 'position': 113, 'token_id': 10800, 'type': 'input'}, {'token': ' rubbish', 'position': 114, 'token_id': 35022, 'type': 'input'}, {'token': ',', 'position': 115, 'token_id': 11, 'type': 'input'}, {'token': ' the', 'position': 116, 'token_id': 262, 'type': 'input'}, {'token': ' most', 'position': 117, 'token_id': 749, 'type': 'input'}, {'token': ' un', 'position': 118, 'token_id': 555, 'type': 'input'}, {'token': 'econom', 'position': 119, 'token_id': 13926, 'type': 'input'}, {'token': 'ical', 'position': 120, 'token_id': 605, 'type': 'input'}, {'token': ' absurdity', 'position': 121, 'token_id': 41793, 'type': 'input'}, {'token': ',', 'position': 122, 'token_id': 11, 'type': 'input'}, {'token': ' simply', 'position': 123, 'token_id': 2391, 'type': 'input'}, {'token': ' to', 'position': 124, 'token_id': 284, 'type': 'input'}, {'token': ' introduce', 'position': 125, 'token_id': 10400, 'type': 'input'}, {'token': ' into', 'position': 126, 'token_id': 656, 'type': 'input'}, {'token': ' all', 'position': 127, 'token_id': 477, 'type': 'input'}, {'token': ' this', 'position': 128, 'token_id': 428, 'type': 'input'}, {'token': ' positive', 'position': 129, 'token_id': 3967, 'type': 'input'}, {'token': ' good', 'position': 130, 'token_id': 922, 'type': 'input'}, {'token': ' sense', 'position': 131, 'token_id': 2565, 'type': 'input'}, {'token': ' his', 'position': 132, 'token_id': 465, 'type': 'input'}, {'token': ' fatal', 'position': 133, 'token_id': 10800, 'type': 'input'}, {'token': ' fantastic', 'position': 134, 'token_id': 9623, 'type': 'input'}, {'token': ' element', 'position': 135, 'token_id': 5002, 'type': 'input'}, {'token': '.', 'position': 136, 'token_id': 13, 'type': 'input'}, {'token': ' It', 'position': 137, 'token_id': 632, 'type': 'input'}, {'token': ' is', 'position': 138, 'token_id': 318, 'type': 'input'}, {'token': ' just', 'position': 139, 'token_id': 655, 'type': 'input'}, {'token': ' his', 'position': 140, 'token_id': 465, 'type': 'input'}, {'token': ' fantastic', 'position': 141, 'token_id': 9623, 'type': 'input'}, {'token': ' dreams', 'position': 142, 'token_id': 10625, 'type': 'input'}, {'token': ',', 'position': 143, 'token_id': 11, 'type': 'input'}, {'token': ' his', 'position': 144, 'token_id': 465, 'type': 'input'}, {'token': ' vulgar', 'position': 145, 'token_id': 31016, 'type': 'input'}, {'token': ' folly', 'position': 146, 'token_id': 43411, 'type': 'input'}, {'token': ' that', 'position': 147, 'token_id': 326, 'type': 'input'}, {'token': ' he', 'position': 148, 'token_id': 339, 'type': 'input'}, {'token': ' will', 'position': 149, 'token_id': 481, 'type': 'input'}, {'token': ' desire', 'position': 150, 'token_id': 6227, 'type': 'input'}, {'token': ' to', 'position': 151, 'token_id': 284, 'type': 'input'}, {'token': ' retain', 'position': 152, 'token_id': 12377, 'type': 'input'}, {'token': ',', 'position': 153, 'token_id': 11, 'type': 'input'}, {'token': ' simply', 'position': 154, 'token_id': 2391, 'type': 'input'}, {'token': ' in', 'position': 155, 'token_id': 287, 'type': 'input'}, {'token': ' order', 'position': 156, 'token_id': 1502, 'type': 'input'}, {'token': ' to', 'position': 157, 'token_id': 284, 'type': 'input'}, {'token': ' prove', 'position': 158, 'token_id': 5879, 'type': 'input'}, {'token': ' to', 'position': 159, 'token_id': 284, 'type': 'input'}, {'token': ' himself', 'position': 160, 'token_id': 2241, 'type': 'input'}, {'token': '--', 'position': 161, 'token_id': 438, 'type': 'input'}, {'token': 'as', 'position': 162, 'token_id': 292, 'type': 'input'}, {'token': ' though', 'position': 163, 'token_id': 996, 'type': 'input'}, {'token': ' that', 'position': 164, 'token_id': 326, 'type': 'input'}, {'token': ' were', 'position': 165, 'token_id': 547, 'type': 'input'}, {'token': ' so', 'position': 166, 'token_id': 523, 'type': 'input'}, {'token': ' necessary', 'position': 167, 'token_id': 3306, 'type': 'input'}, {'token': '--', 'position': 168, 'token_id': 438, 'type': 'input'}, {'token': ' that', 'position': 169, 'token_id': 326, 'type': 'input'}, {'token': ' men', 'position': 170, 'token_id': 1450, 'type': 'input'}, {'token': ' still', 'position': 171, 'token_id': 991, 'type': 'input'}, {'token': ' are', 'position': 172, 'token_id': 389, 'type': 'input'}, {'token': ' men', 'position': 173, 'token_id': 1450, 'type': 'input'}, {'token': ' and', 'position': 174, 'token_id': 290, 'type': 'input'}, {'token': ' not', 'position': 175, 'token_id': 407, 'type': 'input'}, {'token': ' the', 'position': 176, 'token_id': 262, 'type': 'input'}, {'token': ' keys', 'position': 177, 'token_id': 8251, 'type': 'input'}, {'token': ' of', 'position': 178, 'token_id': 286, 'type': 'input'}, {'token': ' a', 'position': 179, 'token_id': 257, 'type': 'input'}, {'token': ' piano', 'position': 180, 'token_id': 19132, 'type': 'input'}, {'token': ',', 'position': 181, 'token_id': 11, 'type': 'input'}, {'token': ' which', 'position': 182, 'token_id': 543, 'type': 'input'}, {'token': ' the', 'position': 183, 'token_id': 262, 'type': 'input'}, {'token': ' laws', 'position': 184, 'token_id': 3657, 'type': 'input'}, {'token': ' of', 'position': 185, 'token_id': 286, 'type': 'input'}, {'token': ' nature', 'position': 186, 'token_id': 3450, 'type': 'input'}, {'token': ' threaten', 'position': 187, 'token_id': 16180, 'type': 'input'}, {'token': ' to', 'position': 188, 'token_id': 284, 'type': 'input'}, {'token': ' control', 'position': 189, 'token_id': 1630, 'type': 'input'}, {'token': ' so', 'position': 190, 'token_id': 523, 'type': 'input'}, {'token': ' completely', 'position': 191, 'token_id': 3190, 'type': 'input'}, {'token': ' that', 'position': 192, 'token_id': 326, 'type': 'input'}, {'token': ' soon', 'position': 193, 'token_id': 2582, 'type': 'input'}, {'token': ' one', 'position': 194, 'token_id': 530, 'type': 'input'}, {'token': ' will', 'position': 195, 'token_id': 481, 'type': 'input'}, {'token': ' be', 'position': 196, 'token_id': 307, 'type': 'input'}, {'token': ' able', 'position': 197, 'token_id': 1498, 'type': 'input'}, {'token': ' to', 'position': 198, 'token_id': 284, 'type': 'input'}, {'token': ' desire', 'position': 199, 'token_id': 6227, 'type': 'input'}, {'token': ' nothing', 'position': 200, 'token_id': 2147, 'type': 'input'}, {'token': ' but', 'position': 201, 'token_id': 475, 'type': 'input'}, {'token': ' by', 'position': 202, 'token_id': 416, 'type': 'input'}, {'token': ' the', 'position': 203, 'token_id': 262, 'type': 'input'}, {'token': ' calendar', 'position': 204, 'token_id': 11845, 'type': 'input'}, {'token': '.', 'position': 205, 'token_id': 13, 'type': 'input'}, {'token': ' And', 'position': 206, 'token_id': 843, 'type': 'input'}, {'token': ' that', 'position': 207, 'token_id': 326, 'type': 'input'}, {'token': ' is', 'position': 208, 'token_id': 318, 'type': 'input'}, {'token': ' not', 'position': 209, 'token_id': 407, 'type': 'input'}, {'token': ' all', 'position': 210, 'token_id': 477, 'type': 'input'}, {'token': ':', 'position': 211, 'token_id': 25, 'type': 'input'}, {'token': ' even', 'position': 212, 'token_id': 772, 'type': 'input'}, {'token': ' if', 'position': 213, 'token_id': 611, 'type': 'input'}, {'token': ' man', 'position': 214, 'token_id': 582, 'type': 'input'}, {'token': ' really', 'position': 215, 'token_id': 1107, 'type': 'input'}, {'token': ' were', 'position': 216, 'token_id': 547, 'type': 'input'}, {'token': ' nothing', 'position': 217, 'token_id': 2147, 'type': 'input'}, {'token': ' but', 'position': 218, 'token_id': 475, 'type': 'input'}, {'token': ' a', 'position': 219, 'token_id': 257, 'type': 'input'}, {'token': ' piano', 'position': 220, 'token_id': 19132, 'type': 'input'}, {'token': '-', 'position': 221, 'token_id': 12, 'type': 'input'}, {'token': 'key', 'position': 222, 'token_id': 2539, 'type': 'input'}, {'token': ',', 'position': 223, 'token_id': 11, 'type': 'input'}, {'token': ' even', 'position': 224, 'token_id': 772, 'type': 'input'}, {'token': ' if', 'position': 225, 'token_id': 611, 'type': 'input'}, {'token': ' this', 'position': 226, 'token_id': 428, 'type': 'input'}, {'token': ' were', 'position': 227, 'token_id': 547, 'type': 'input'}, {'token': ' proved', 'position': 228, 'token_id': 8302, 'type': 'input'}, {'token': ' to', 'position': 229, 'token_id': 284, 'type': 'input'}, {'token': ' him', 'position': 230, 'token_id': 683, 'type': 'input'}, {'token': ' by', 'position': 231, 'token_id': 416, 'type': 'input'}, {'token': ' natural', 'position': 232, 'token_id': 3288, 'type': 'input'}, {'token': ' science', 'position': 233, 'token_id': 3783, 'type': 'input'}, {'token': ' and', 'position': 234, 'token_id': 290, 'type': 'input'}, {'token': ' mathematics', 'position': 235, 'token_id': 19473, 'type': 'input'}, {'token': ',', 'position': 236, 'token_id': 11, 'type': 'input'}, {'token': ' even', 'position': 237, 'token_id': 772, 'type': 'input'}, {'token': ' then', 'position': 238, 'token_id': 788, 'type': 'input'}, {'token': ' he', 'position': 239, 'token_id': 339, 'type': 'input'}, {'token': ' would', 'position': 240, 'token_id': 561, 'type': 'input'}, {'token': ' not', 'position': 241, 'token_id': 407, 'type': 'input'}, {'token': ' become', 'position': 242, 'token_id': 1716, 'type': 'input'}, {'token': ' reasonable', 'position': 243, 'token_id': 6397, 'type': 'input'}, {'token': ',', 'position': 244, 'token_id': 11, 'type': 'input'}, {'token': ' but', 'position': 245, 'token_id': 475, 'type': 'input'}, {'token': ' would', 'position': 246, 'token_id': 561, 'type': 'input'}, {'token': ' purposely', 'position': 247, 'token_id': 39033, 'type': 'input'}, {'token': ' do', 'position': 248, 'token_id': 466, 'type': 'input'}, {'token': ' something', 'position': 249, 'token_id': 1223, 'type': 'input'}, {'token': ' perverse', 'position': 250, 'token_id': 43060, 'type': 'input'}, {'token': ' out', 'position': 251, 'token_id': 503, 'type': 'input'}, {'token': ' of', 'position': 252, 'token_id': 286, 'type': 'input'}, {'token': ' simple', 'position': 253, 'token_id': 2829, 'type': 'input'}, {'token': ' ing', 'position': 254, 'token_id': 5347, 'type': 'input'}, {'token': 'rat', 'position': 255, 'token_id': 10366, 'type': 'input'}, {'token': 'itude', 'position': 256, 'token_id': 3984, 'type': 'input'}, {'token': ',', 'position': 257, 'token_id': 11, 'type': 'input'}, {'token': ' simply', 'position': 258, 'token_id': 2391, 'type': 'input'}, {'token': ' to', 'position': 259, 'token_id': 284, 'type': 'input'}, {'token': ' gain', 'position': 260, 'token_id': 4461, 'type': 'input'}, {'token': ' his', 'position': 261, 'token_id': 465, 'type': 'input'}, {'token': ' point', 'position': 262, 'token_id': 966, 'type': 'input'}, {'token': '.', 'position': 263, 'token_id': 13, 'type': 'input'}, {'token': ' And', 'position': 264, 'token_id': 843, 'type': 'input'}, {'token': ' if', 'position': 265, 'token_id': 611, 'type': 'input'}, {'token': ' he', 'position': 266, 'token_id': 339, 'type': 'input'}, {'token': ' does', 'position': 267, 'token_id': 857, 'type': 'input'}, {'token': ' not', 'position': 268, 'token_id': 407, 'type': 'input'}, {'token': ' find', 'position': 269, 'token_id': 1064, 'type': 'input'}, {'token': ' means', 'position': 270, 'token_id': 1724, 'type': 'input'}, {'token': ' he', 'position': 271, 'token_id': 339, 'type': 'input'}, {'token': ' will', 'position': 272, 'token_id': 481, 'type': 'input'}, {'token': ' cont', 'position': 273, 'token_id': 542, 'type': 'input'}, {'token': 'rive', 'position': 274, 'token_id': 11590, 'type': 'input'}, {'token': ' destruction', 'position': 275, 'token_id': 8166, 'type': 'input'}, {'token': ' and', 'position': 276, 'token_id': 290, 'type': 'input'}, {'token': ' chaos', 'position': 277, 'token_id': 11918, 'type': 'input'}, {'token': ',', 'position': 278, 'token_id': 11, 'type': 'input'}, {'token': ' will', 'position': 279, 'token_id': 481, 'type': 'input'}, {'token': ' cont', 'position': 280, 'token_id': 542, 'type': 'input'}, {'token': 'rive', 'position': 281, 'token_id': 11590, 'type': 'input'}, {'token': ' suffer', 'position': 282, 'token_id': 8659, 'type': 'input'}, {'token': 'ings', 'position': 283, 'token_id': 654, 'type': 'input'}, {'token': ' of', 'position': 284, 'token_id': 286, 'type': 'input'}, {'token': ' all', 'position': 285, 'token_id': 477, 'type': 'input'}, {'token': ' sorts', 'position': 286, 'token_id': 10524, 'type': 'input'}, {'token': ',', 'position': 287, 'token_id': 11, 'type': 'input'}, {'token': ' only', 'position': 288, 'token_id': 691, 'type': 'input'}, {'token': ' to', 'position': 289, 'token_id': 284, 'type': 'input'}, {'token': ' gain', 'position': 290, 'token_id': 4461, 'type': 'input'}, {'token': ' his', 'position': 291, 'token_id': 465, 'type': 'input'}, {'token': ' point', 'position': 292, 'token_id': 966, 'type': 'input'}, {'token': '!', 'position': 293, 'token_id': 0, 'type': 'input'}, {'token': ' He', 'position': 294, 'token_id': 679, 'type': 'input'}, {'token': ' will', 'position': 295, 'token_id': 481, 'type': 'input'}, {'token': ' launch', 'position': 296, 'token_id': 4219, 'type': 'input'}, {'token': ' a', 'position': 297, 'token_id': 257, 'type': 'input'}, {'token': ' curse', 'position': 298, 'token_id': 17328, 'type': 'input'}, {'token': ' upon', 'position': 299, 'token_id': 2402, 'type': 'input'}, {'token': ' the', 'position': 300, 'token_id': 262, 'type': 'input'}, {'token': ' world', 'position': 301, 'token_id': 995, 'type': 'input'}, {'token': ',', 'position': 302, 'token_id': 11, 'type': 'input'}, {'token': ' and', 'position': 303, 'token_id': 290, 'type': 'input'}, {'token': ' as', 'position': 304, 'token_id': 355, 'type': 'input'}, {'token': ' only', 'position': 305, 'token_id': 691, 'type': 'input'}, {'token': ' man', 'position': 306, 'token_id': 582, 'type': 'input'}, {'token': ' can', 'position': 307, 'token_id': 460, 'type': 'input'}, {'token': ' curse', 'position': 308, 'token_id': 17328, 'type': 'input'}, {'token': ' (', 'position': 309, 'token_id': 357, 'type': 'input'}, {'token': 'it', 'position': 310, 'token_id': 270, 'type': 'input'}, {'token': ' is', 'position': 311, 'token_id': 318, 'type': 'input'}, {'token': ' his', 'position': 312, 'token_id': 465, 'type': 'input'}, {'token': ' privilege', 'position': 313, 'token_id': 11941, 'type': 'input'}, {'token': ',', 'position': 314, 'token_id': 11, 'type': 'input'}, {'token': ' the', 'position': 315, 'token_id': 262, 'type': 'input'}, {'token': ' primary', 'position': 316, 'token_id': 4165, 'type': 'input'}, {'token': ' distinction', 'position': 317, 'token_id': 12941, 'type': 'input'}, {'token': ' between', 'position': 318, 'token_id': 1022, 'type': 'input'}, {'token': ' him', 'position': 319, 'token_id': 683, 'type': 'input'}, {'token': ' and', 'position': 320, 'token_id': 290, 'type': 'input'}, {'token': ' other', 'position': 321, 'token_id': 584, 'type': 'input'}, {'token': ' animals', 'position': 322, 'token_id': 4695, 'type': 'input'}, {'token': '),', 'position': 323, 'token_id': 828, 'type': 'input'}, {'token': ' may', 'position': 324, 'token_id': 743, 'type': 'input'}, {'token': ' be', 'position': 325, 'token_id': 307, 'type': 'input'}, {'token': ' by', 'position': 326, 'token_id': 416, 'type': 'input'}, {'token': ' his', 'position': 327, 'token_id': 465, 'type': 'input'}, {'token': ' curse', 'position': 328, 'token_id': 17328, 'type': 'input'}, {'token': ' alone', 'position': 329, 'token_id': 3436, 'type': 'input'}, {'token': ' he', 'position': 330, 'token_id': 339, 'type': 'input'}, {'token': ' will', 'position': 331, 'token_id': 481, 'type': 'input'}, {'token': ' attain', 'position': 332, 'token_id': 18188, 'type': 'input'}, {'token': ' his', 'position': 333, 'token_id': 465, 'type': 'input'}, {'token': ' object', 'position': 334, 'token_id': 2134, 'type': 'input'}, {'token': '--', 'position': 335, 'token_id': 438, 'type': 'input'}, {'token': 'that', 'position': 336, 'token_id': 5562, 'type': 'input'}, {'token': ' is', 'position': 337, 'token_id': 318, 'type': 'input'}, {'token': ',', 'position': 338, 'token_id': 11, 'type': 'input'}, {'token': ' convince', 'position': 339, 'token_id': 11508, 'type': 'input'}, {'token': ' himself', 'position': 340, 'token_id': 2241, 'type': 'input'}, {'token': ' that', 'position': 341, 'token_id': 326, 'type': 'input'}, {'token': ' he', 'position': 342, 'token_id': 339, 'type': 'input'}, {'token': ' is', 'position': 343, 'token_id': 318, 'type': 'input'}, {'token': ' a', 'position': 344, 'token_id': 257, 'type': 'input'}, {'token': ' man', 'position': 345, 'token_id': 582, 'type': 'input'}, {'token': ' and', 'position': 346, 'token_id': 290, 'type': 'input'}, {'token': ' not', 'position': 347, 'token_id': 407, 'type': 'input'}, {'token': ' a', 'position': 348, 'token_id': 257, 'type': 'input'}, {'token': ' piano', 'position': 349, 'token_id': 19132, 'type': 'input'}, {'token': '-', 'position': 350, 'token_id': 12, 'type': 'input'}, {'token': 'key', 'position': 351, 'token_id': 2539, 'type': 'input'}, {'token': '!', 'position': 352, 'token_id': 0, 'type': 'input'}, {'token': '\\n', 'position': 353, 'token_id': 198, 'type': 'input'}]})\n",
              "         }, function (err) {\n",
              "            console.log(err);\n",
              "        })\n"
            ],
            "text/plain": [
              "<IPython.core.display.Javascript object>"
            ]
          },
          "metadata": {
            "tags": []
          }
        },
        {
          "output_type": "display_data",
          "data": {
            "application/javascript": [
              "\n",
              "        // We don't really need these require scripts. But this is to avert \n",
              "        //this code from running before display_input_sequence which DOES require external files\n",
              "        requirejs(['basic', 'ecco'], function(basic, ecco){ \n",
              "                console.log('addToken viz_id', 'viz_590336');\n",
              "                window.ecco['viz_590336'].addToken({\"token\": \"This\", \"token_id\": 1212, \"position\": 354, \"type\": \"output\"})\n",
              "                window.ecco['viz_590336'].redraw()\n",
              "        })\n",
              "        "
            ],
            "text/plain": [
              "<IPython.core.display.Javascript object>"
            ]
          },
          "metadata": {
            "tags": []
          }
        }
      ]
    },
    {
      "cell_type": "code",
      "metadata": {
        "id": "l171rfDeBff-"
      },
      "source": [
        "# Factorize activations in all the layers\n",
        "nmf_1 = output.run_nmf(n_components=10) "
      ],
      "execution_count": null,
      "outputs": []
    },
    {
      "cell_type": "code",
      "metadata": {
        "id": "8IKtaOA5B0XG",
        "colab": {
          "base_uri": "https://localhost:8080/",
          "height": 163
        },
        "outputId": "0b32731e-2d45-46f9-a6ea-9ff776c8a36a"
      },
      "source": [
        "nmf_1.explore()"
      ],
      "execution_count": 1,
      "outputs": [
        {
          "output_type": "error",
          "ename": "NameError",
          "evalue": "ignored",
          "traceback": [
            "\u001b[0;31m---------------------------------------------------------------------------\u001b[0m",
            "\u001b[0;31mNameError\u001b[0m                                 Traceback (most recent call last)",
            "\u001b[0;32m<ipython-input-1-768744c1ac1d>\u001b[0m in \u001b[0;36m<module>\u001b[0;34m()\u001b[0m\n\u001b[0;32m----> 1\u001b[0;31m \u001b[0mnmf_1\u001b[0m\u001b[0;34m.\u001b[0m\u001b[0mexplore\u001b[0m\u001b[0;34m(\u001b[0m\u001b[0;34m)\u001b[0m\u001b[0;34m\u001b[0m\u001b[0;34m\u001b[0m\u001b[0m\n\u001b[0m",
            "\u001b[0;31mNameError\u001b[0m: name 'nmf_1' is not defined"
          ]
        }
      ]
    },
    {
      "cell_type": "code",
      "metadata": {
        "id": "6h5JzHHdB0Bu"
      },
      "source": [
        "# Factorize the activations of only the first layer\n",
        "nmf_2 = output.run_nmf(n_components=10, from_layer=0, to_layer=1)"
      ],
      "execution_count": null,
      "outputs": []
    },
    {
      "cell_type": "code",
      "metadata": {
        "id": "v3KN4E54B3_f",
        "colab": {
          "base_uri": "https://localhost:8080/",
          "height": 537
        },
        "outputId": "3dcc21d6-79a6-4849-d93c-3db399af9aa2"
      },
      "source": [
        "nmf_2.explore()"
      ],
      "execution_count": null,
      "outputs": [
        {
          "output_type": "display_data",
          "data": {
            "text/html": [
              "<html lang=\"en\">\n",
              "<script src=\"https://requirejs.org/docs/release/2.3.6/minified/require.js\"></script>\n",
              "<script>\n",
              "    var ecco_url = 'https://storage.googleapis.com/ml-intro/ecco/'\n",
              "    // var ecco_url = 'http://localhost:8000/ecco/'\n",
              "\n",
              "    if (window.ecco === undefined) window.ecco = {}\n",
              "\n",
              "    requirejs.config({\n",
              "        urlArgs: \"bust=\" + (new Date()).getTime(),\n",
              "        nodeRequire: require,\n",
              "        paths: {\n",
              "            d3: \"https://d3js.org/d3.v5.min\",\n",
              "            \"d3-array\": \"https://d3js.org/d3-array.v2.min\",\n",
              "            jquery: \"https://code.jquery.com/jquery-3.5.1.min\",\n",
              "            // oldEcco: ecco_url + 'ecco',\n",
              "            ecco: ecco_url + 'js/0.0.4/ecco-bundle.min',\n",
              "            xregexp: 'https://cdnjs.cloudflare.com/ajax/libs/xregexp/3.2.0/xregexp-all.min'\n",
              "        }\n",
              "    });\n",
              "    requirejs(['d3'],\n",
              "        function (d3) {\n",
              "            d3.select('#css').attr('href', ecco_url + 'html/styles.css')\n",
              "        })\n",
              "\n",
              "    console.log('Ecco initialize.')\n",
              "</script>\n",
              "\n",
              "<head>\n",
              "    <link id='css' rel=\"stylesheet\" type=\"text/css\">\n",
              "</head>\n"
            ],
            "text/plain": [
              "<IPython.core.display.HTML object>"
            ]
          },
          "metadata": {
            "tags": []
          }
        },
        {
          "output_type": "display_data",
          "data": {
            "text/html": [
              "<script>\n",
              "    // console.log('defining basic')\n",
              "    define('basic', ['d3'],\n",
              "        function (d3) {\n",
              "            return {\n",
              "                init: function (viz_id = null) {\n",
              "\n",
              "                    // console.log('basic init')\n",
              "                    if (viz_id == null){\n",
              "                        viz_id = \"viz_\" + Math.round(Math.random() * 10000000)\n",
              "                    }\n",
              "                    const div = d3.select('#basic').attr('id', viz_id),\n",
              "                        div_parent = d3.select('#' + viz_id).node().parentNode\n",
              "\n",
              "                    // Link to CSS file\n",
              "                    d3.select(div_parent).insert('link')\n",
              "                        .attr('rel', 'stylesheet')\n",
              "                        .attr('type', 'text/css')\n",
              "                        .attr('href', ecco_url + 'html/styles.css')\n",
              "\n",
              "                    return viz_id\n",
              "                }\n",
              "            }\n",
              "        }, function (err) {console.log(err);}\n",
              "    )\n",
              "    // console.log('after defining basic')\n",
              "\n",
              "</script>\n",
              "<div id=\"basic\"></div>\n"
            ],
            "text/plain": [
              "<IPython.core.display.HTML object>"
            ]
          },
          "metadata": {
            "tags": []
          }
        },
        {
          "output_type": "display_data",
          "data": {
            "application/javascript": [
              "\n",
              "         requirejs(['basic', 'ecco'], function(basic, ecco){\n",
              "            const viz_id = basic.init()\n",
              "            ecco.interactiveTokensAndFactorSparklines(viz_id, {'tokens': [{'token': ' Now', 'token_id': 2735, 'type': 'input', 'position': 0}, {'token': ' I', 'token_id': 314, 'type': 'input', 'position': 1}, {'token': ' ask', 'token_id': 1265, 'type': 'input', 'position': 2}, {'token': ' you', 'token_id': 345, 'type': 'input', 'position': 3}, {'token': ':', 'token_id': 25, 'type': 'input', 'position': 4}, {'token': ' what', 'token_id': 644, 'type': 'input', 'position': 5}, {'token': ' can', 'token_id': 460, 'type': 'input', 'position': 6}, {'token': ' be', 'token_id': 307, 'type': 'input', 'position': 7}, {'token': ' expected', 'token_id': 2938, 'type': 'input', 'position': 8}, {'token': ' of', 'token_id': 286, 'type': 'input', 'position': 9}, {'token': ' man', 'token_id': 582, 'type': 'input', 'position': 10}, {'token': ' since', 'token_id': 1201, 'type': 'input', 'position': 11}, {'token': ' he', 'token_id': 339, 'type': 'input', 'position': 12}, {'token': ' is', 'token_id': 318, 'type': 'input', 'position': 13}, {'token': ' a', 'token_id': 257, 'type': 'input', 'position': 14}, {'token': ' being', 'token_id': 852, 'type': 'input', 'position': 15}, {'token': ' endowed', 'token_id': 44134, 'type': 'input', 'position': 16}, {'token': ' with', 'token_id': 351, 'type': 'input', 'position': 17}, {'token': ' strange', 'token_id': 6283, 'type': 'input', 'position': 18}, {'token': ' qualities', 'token_id': 14482, 'type': 'input', 'position': 19}, {'token': '?', 'token_id': 30, 'type': 'input', 'position': 20}, {'token': ' Sh', 'token_id': 911, 'type': 'input', 'position': 21}, {'token': 'ower', 'token_id': 789, 'type': 'input', 'position': 22}, {'token': ' upon', 'token_id': 2402, 'type': 'input', 'position': 23}, {'token': ' him', 'token_id': 683, 'type': 'input', 'position': 24}, {'token': ' every', 'token_id': 790, 'type': 'input', 'position': 25}, {'token': ' earthly', 'token_id': 39892, 'type': 'input', 'position': 26}, {'token': ' blessing', 'token_id': 20027, 'type': 'input', 'position': 27}, {'token': ',', 'token_id': 11, 'type': 'input', 'position': 28}, {'token': ' drown', 'token_id': 16398, 'type': 'input', 'position': 29}, {'token': ' him', 'token_id': 683, 'type': 'input', 'position': 30}, {'token': ' in', 'token_id': 287, 'type': 'input', 'position': 31}, {'token': ' a', 'token_id': 257, 'type': 'input', 'position': 32}, {'token': ' sea', 'token_id': 5417, 'type': 'input', 'position': 33}, {'token': ' of', 'token_id': 286, 'type': 'input', 'position': 34}, {'token': ' happiness', 'token_id': 12157, 'type': 'input', 'position': 35}, {'token': ',', 'token_id': 11, 'type': 'input', 'position': 36}, {'token': ' so', 'token_id': 523, 'type': 'input', 'position': 37}, {'token': ' that', 'token_id': 326, 'type': 'input', 'position': 38}, {'token': ' nothing', 'token_id': 2147, 'type': 'input', 'position': 39}, {'token': ' but', 'token_id': 475, 'type': 'input', 'position': 40}, {'token': ' bubbles', 'token_id': 25037, 'type': 'input', 'position': 41}, {'token': ' of', 'token_id': 286, 'type': 'input', 'position': 42}, {'token': ' bliss', 'token_id': 30533, 'type': 'input', 'position': 43}, {'token': ' can', 'token_id': 460, 'type': 'input', 'position': 44}, {'token': ' be', 'token_id': 307, 'type': 'input', 'position': 45}, {'token': ' seen', 'token_id': 1775, 'type': 'input', 'position': 46}, {'token': ' on', 'token_id': 319, 'type': 'input', 'position': 47}, {'token': ' the', 'token_id': 262, 'type': 'input', 'position': 48}, {'token': ' surface', 'token_id': 4417, 'type': 'input', 'position': 49}, {'token': ';', 'token_id': 26, 'type': 'input', 'position': 50}, {'token': ' give', 'token_id': 1577, 'type': 'input', 'position': 51}, {'token': ' him', 'token_id': 683, 'type': 'input', 'position': 52}, {'token': ' economic', 'token_id': 3034, 'type': 'input', 'position': 53}, {'token': ' prosperity', 'token_id': 19519, 'type': 'input', 'position': 54}, {'token': ',', 'token_id': 11, 'type': 'input', 'position': 55}, {'token': ' such', 'token_id': 884, 'type': 'input', 'position': 56}, {'token': ' that', 'token_id': 326, 'type': 'input', 'position': 57}, {'token': ' he', 'token_id': 339, 'type': 'input', 'position': 58}, {'token': ' should', 'token_id': 815, 'type': 'input', 'position': 59}, {'token': ' have', 'token_id': 423, 'type': 'input', 'position': 60}, {'token': ' nothing', 'token_id': 2147, 'type': 'input', 'position': 61}, {'token': ' else', 'token_id': 2073, 'type': 'input', 'position': 62}, {'token': ' to', 'token_id': 284, 'type': 'input', 'position': 63}, {'token': ' do', 'token_id': 466, 'type': 'input', 'position': 64}, {'token': ' but', 'token_id': 475, 'type': 'input', 'position': 65}, {'token': ' sleep', 'token_id': 3993, 'type': 'input', 'position': 66}, {'token': ',', 'token_id': 11, 'type': 'input', 'position': 67}, {'token': ' eat', 'token_id': 4483, 'type': 'input', 'position': 68}, {'token': ' cakes', 'token_id': 30849, 'type': 'input', 'position': 69}, {'token': ' and', 'token_id': 290, 'type': 'input', 'position': 70}, {'token': ' busy', 'token_id': 8179, 'type': 'input', 'position': 71}, {'token': ' himself', 'token_id': 2241, 'type': 'input', 'position': 72}, {'token': ' with', 'token_id': 351, 'type': 'input', 'position': 73}, {'token': ' the', 'token_id': 262, 'type': 'input', 'position': 74}, {'token': ' continuation', 'token_id': 24659, 'type': 'input', 'position': 75}, {'token': ' of', 'token_id': 286, 'type': 'input', 'position': 76}, {'token': ' his', 'token_id': 465, 'type': 'input', 'position': 77}, {'token': ' species', 'token_id': 4693, 'type': 'input', 'position': 78}, {'token': ',', 'token_id': 11, 'type': 'input', 'position': 79}, {'token': ' and', 'token_id': 290, 'type': 'input', 'position': 80}, {'token': ' even', 'token_id': 772, 'type': 'input', 'position': 81}, {'token': ' then', 'token_id': 788, 'type': 'input', 'position': 82}, {'token': ' out', 'token_id': 503, 'type': 'input', 'position': 83}, {'token': ' of', 'token_id': 286, 'type': 'input', 'position': 84}, {'token': ' sheer', 'token_id': 15163, 'type': 'input', 'position': 85}, {'token': ' ing', 'token_id': 5347, 'type': 'input', 'position': 86}, {'token': 'rat', 'token_id': 10366, 'type': 'input', 'position': 87}, {'token': 'itude', 'token_id': 3984, 'type': 'input', 'position': 88}, {'token': ',', 'token_id': 11, 'type': 'input', 'position': 89}, {'token': ' sheer', 'token_id': 15163, 'type': 'input', 'position': 90}, {'token': ' spite', 'token_id': 15275, 'type': 'input', 'position': 91}, {'token': ',', 'token_id': 11, 'type': 'input', 'position': 92}, {'token': ' man', 'token_id': 582, 'type': 'input', 'position': 93}, {'token': ' would', 'token_id': 561, 'type': 'input', 'position': 94}, {'token': ' play', 'token_id': 711, 'type': 'input', 'position': 95}, {'token': ' you', 'token_id': 345, 'type': 'input', 'position': 96}, {'token': ' some', 'token_id': 617, 'type': 'input', 'position': 97}, {'token': ' nasty', 'token_id': 17166, 'type': 'input', 'position': 98}, {'token': ' trick', 'token_id': 6908, 'type': 'input', 'position': 99}, {'token': '.', 'token_id': 13, 'type': 'input', 'position': 100}, {'token': ' He', 'token_id': 679, 'type': 'input', 'position': 101}, {'token': ' would', 'token_id': 561, 'type': 'input', 'position': 102}, {'token': ' even', 'token_id': 772, 'type': 'input', 'position': 103}, {'token': ' risk', 'token_id': 2526, 'type': 'input', 'position': 104}, {'token': ' his', 'token_id': 465, 'type': 'input', 'position': 105}, {'token': ' cakes', 'token_id': 30849, 'type': 'input', 'position': 106}, {'token': ' and', 'token_id': 290, 'type': 'input', 'position': 107}, {'token': ' would', 'token_id': 561, 'type': 'input', 'position': 108}, {'token': ' deliberately', 'token_id': 14593, 'type': 'input', 'position': 109}, {'token': ' desire', 'token_id': 6227, 'type': 'input', 'position': 110}, {'token': ' the', 'token_id': 262, 'type': 'input', 'position': 111}, {'token': ' most', 'token_id': 749, 'type': 'input', 'position': 112}, {'token': ' fatal', 'token_id': 10800, 'type': 'input', 'position': 113}, {'token': ' rubbish', 'token_id': 35022, 'type': 'input', 'position': 114}, {'token': ',', 'token_id': 11, 'type': 'input', 'position': 115}, {'token': ' the', 'token_id': 262, 'type': 'input', 'position': 116}, {'token': ' most', 'token_id': 749, 'type': 'input', 'position': 117}, {'token': ' un', 'token_id': 555, 'type': 'input', 'position': 118}, {'token': 'econom', 'token_id': 13926, 'type': 'input', 'position': 119}, {'token': 'ical', 'token_id': 605, 'type': 'input', 'position': 120}, {'token': ' absurdity', 'token_id': 41793, 'type': 'input', 'position': 121}, {'token': ',', 'token_id': 11, 'type': 'input', 'position': 122}, {'token': ' simply', 'token_id': 2391, 'type': 'input', 'position': 123}, {'token': ' to', 'token_id': 284, 'type': 'input', 'position': 124}, {'token': ' introduce', 'token_id': 10400, 'type': 'input', 'position': 125}, {'token': ' into', 'token_id': 656, 'type': 'input', 'position': 126}, {'token': ' all', 'token_id': 477, 'type': 'input', 'position': 127}, {'token': ' this', 'token_id': 428, 'type': 'input', 'position': 128}, {'token': ' positive', 'token_id': 3967, 'type': 'input', 'position': 129}, {'token': ' good', 'token_id': 922, 'type': 'input', 'position': 130}, {'token': ' sense', 'token_id': 2565, 'type': 'input', 'position': 131}, {'token': ' his', 'token_id': 465, 'type': 'input', 'position': 132}, {'token': ' fatal', 'token_id': 10800, 'type': 'input', 'position': 133}, {'token': ' fantastic', 'token_id': 9623, 'type': 'input', 'position': 134}, {'token': ' element', 'token_id': 5002, 'type': 'input', 'position': 135}, {'token': '.', 'token_id': 13, 'type': 'input', 'position': 136}, {'token': ' It', 'token_id': 632, 'type': 'input', 'position': 137}, {'token': ' is', 'token_id': 318, 'type': 'input', 'position': 138}, {'token': ' just', 'token_id': 655, 'type': 'input', 'position': 139}, {'token': ' his', 'token_id': 465, 'type': 'input', 'position': 140}, {'token': ' fantastic', 'token_id': 9623, 'type': 'input', 'position': 141}, {'token': ' dreams', 'token_id': 10625, 'type': 'input', 'position': 142}, {'token': ',', 'token_id': 11, 'type': 'input', 'position': 143}, {'token': ' his', 'token_id': 465, 'type': 'input', 'position': 144}, {'token': ' vulgar', 'token_id': 31016, 'type': 'input', 'position': 145}, {'token': ' folly', 'token_id': 43411, 'type': 'input', 'position': 146}, {'token': ' that', 'token_id': 326, 'type': 'input', 'position': 147}, {'token': ' he', 'token_id': 339, 'type': 'input', 'position': 148}, {'token': ' will', 'token_id': 481, 'type': 'input', 'position': 149}, {'token': ' desire', 'token_id': 6227, 'type': 'input', 'position': 150}, {'token': ' to', 'token_id': 284, 'type': 'input', 'position': 151}, {'token': ' retain', 'token_id': 12377, 'type': 'input', 'position': 152}, {'token': ',', 'token_id': 11, 'type': 'input', 'position': 153}, {'token': ' simply', 'token_id': 2391, 'type': 'input', 'position': 154}, {'token': ' in', 'token_id': 287, 'type': 'input', 'position': 155}, {'token': ' order', 'token_id': 1502, 'type': 'input', 'position': 156}, {'token': ' to', 'token_id': 284, 'type': 'input', 'position': 157}, {'token': ' prove', 'token_id': 5879, 'type': 'input', 'position': 158}, {'token': ' to', 'token_id': 284, 'type': 'input', 'position': 159}, {'token': ' himself', 'token_id': 2241, 'type': 'input', 'position': 160}, {'token': '--', 'token_id': 438, 'type': 'input', 'position': 161}, {'token': 'as', 'token_id': 292, 'type': 'input', 'position': 162}, {'token': ' though', 'token_id': 996, 'type': 'input', 'position': 163}, {'token': ' that', 'token_id': 326, 'type': 'input', 'position': 164}, {'token': ' were', 'token_id': 547, 'type': 'input', 'position': 165}, {'token': ' so', 'token_id': 523, 'type': 'input', 'position': 166}, {'token': ' necessary', 'token_id': 3306, 'type': 'input', 'position': 167}, {'token': '--', 'token_id': 438, 'type': 'input', 'position': 168}, {'token': ' that', 'token_id': 326, 'type': 'input', 'position': 169}, {'token': ' men', 'token_id': 1450, 'type': 'input', 'position': 170}, {'token': ' still', 'token_id': 991, 'type': 'input', 'position': 171}, {'token': ' are', 'token_id': 389, 'type': 'input', 'position': 172}, {'token': ' men', 'token_id': 1450, 'type': 'input', 'position': 173}, {'token': ' and', 'token_id': 290, 'type': 'input', 'position': 174}, {'token': ' not', 'token_id': 407, 'type': 'input', 'position': 175}, {'token': ' the', 'token_id': 262, 'type': 'input', 'position': 176}, {'token': ' keys', 'token_id': 8251, 'type': 'input', 'position': 177}, {'token': ' of', 'token_id': 286, 'type': 'input', 'position': 178}, {'token': ' a', 'token_id': 257, 'type': 'input', 'position': 179}, {'token': ' piano', 'token_id': 19132, 'type': 'input', 'position': 180}, {'token': ',', 'token_id': 11, 'type': 'input', 'position': 181}, {'token': ' which', 'token_id': 543, 'type': 'input', 'position': 182}, {'token': ' the', 'token_id': 262, 'type': 'input', 'position': 183}, {'token': ' laws', 'token_id': 3657, 'type': 'input', 'position': 184}, {'token': ' of', 'token_id': 286, 'type': 'input', 'position': 185}, {'token': ' nature', 'token_id': 3450, 'type': 'input', 'position': 186}, {'token': ' threaten', 'token_id': 16180, 'type': 'input', 'position': 187}, {'token': ' to', 'token_id': 284, 'type': 'input', 'position': 188}, {'token': ' control', 'token_id': 1630, 'type': 'input', 'position': 189}, {'token': ' so', 'token_id': 523, 'type': 'input', 'position': 190}, {'token': ' completely', 'token_id': 3190, 'type': 'input', 'position': 191}, {'token': ' that', 'token_id': 326, 'type': 'input', 'position': 192}, {'token': ' soon', 'token_id': 2582, 'type': 'input', 'position': 193}, {'token': ' one', 'token_id': 530, 'type': 'input', 'position': 194}, {'token': ' will', 'token_id': 481, 'type': 'input', 'position': 195}, {'token': ' be', 'token_id': 307, 'type': 'input', 'position': 196}, {'token': ' able', 'token_id': 1498, 'type': 'input', 'position': 197}, {'token': ' to', 'token_id': 284, 'type': 'input', 'position': 198}, {'token': ' desire', 'token_id': 6227, 'type': 'input', 'position': 199}, {'token': ' nothing', 'token_id': 2147, 'type': 'input', 'position': 200}, {'token': ' but', 'token_id': 475, 'type': 'input', 'position': 201}, {'token': ' by', 'token_id': 416, 'type': 'input', 'position': 202}, {'token': ' the', 'token_id': 262, 'type': 'input', 'position': 203}, {'token': ' calendar', 'token_id': 11845, 'type': 'input', 'position': 204}, {'token': '.', 'token_id': 13, 'type': 'input', 'position': 205}, {'token': ' And', 'token_id': 843, 'type': 'input', 'position': 206}, {'token': ' that', 'token_id': 326, 'type': 'input', 'position': 207}, {'token': ' is', 'token_id': 318, 'type': 'input', 'position': 208}, {'token': ' not', 'token_id': 407, 'type': 'input', 'position': 209}, {'token': ' all', 'token_id': 477, 'type': 'input', 'position': 210}, {'token': ':', 'token_id': 25, 'type': 'input', 'position': 211}, {'token': ' even', 'token_id': 772, 'type': 'input', 'position': 212}, {'token': ' if', 'token_id': 611, 'type': 'input', 'position': 213}, {'token': ' man', 'token_id': 582, 'type': 'input', 'position': 214}, {'token': ' really', 'token_id': 1107, 'type': 'input', 'position': 215}, {'token': ' were', 'token_id': 547, 'type': 'input', 'position': 216}, {'token': ' nothing', 'token_id': 2147, 'type': 'input', 'position': 217}, {'token': ' but', 'token_id': 475, 'type': 'input', 'position': 218}, {'token': ' a', 'token_id': 257, 'type': 'input', 'position': 219}, {'token': ' piano', 'token_id': 19132, 'type': 'input', 'position': 220}, {'token': '-', 'token_id': 12, 'type': 'input', 'position': 221}, {'token': 'key', 'token_id': 2539, 'type': 'input', 'position': 222}, {'token': ',', 'token_id': 11, 'type': 'input', 'position': 223}, {'token': ' even', 'token_id': 772, 'type': 'input', 'position': 224}, {'token': ' if', 'token_id': 611, 'type': 'input', 'position': 225}, {'token': ' this', 'token_id': 428, 'type': 'input', 'position': 226}, {'token': ' were', 'token_id': 547, 'type': 'input', 'position': 227}, {'token': ' proved', 'token_id': 8302, 'type': 'input', 'position': 228}, {'token': ' to', 'token_id': 284, 'type': 'input', 'position': 229}, {'token': ' him', 'token_id': 683, 'type': 'input', 'position': 230}, {'token': ' by', 'token_id': 416, 'type': 'input', 'position': 231}, {'token': ' natural', 'token_id': 3288, 'type': 'input', 'position': 232}, {'token': ' science', 'token_id': 3783, 'type': 'input', 'position': 233}, {'token': ' and', 'token_id': 290, 'type': 'input', 'position': 234}, {'token': ' mathematics', 'token_id': 19473, 'type': 'input', 'position': 235}, {'token': ',', 'token_id': 11, 'type': 'input', 'position': 236}, {'token': ' even', 'token_id': 772, 'type': 'input', 'position': 237}, {'token': ' then', 'token_id': 788, 'type': 'input', 'position': 238}, {'token': ' he', 'token_id': 339, 'type': 'input', 'position': 239}, {'token': ' would', 'token_id': 561, 'type': 'input', 'position': 240}, {'token': ' not', 'token_id': 407, 'type': 'input', 'position': 241}, {'token': ' become', 'token_id': 1716, 'type': 'input', 'position': 242}, {'token': ' reasonable', 'token_id': 6397, 'type': 'input', 'position': 243}, {'token': ',', 'token_id': 11, 'type': 'input', 'position': 244}, {'token': ' but', 'token_id': 475, 'type': 'input', 'position': 245}, {'token': ' would', 'token_id': 561, 'type': 'input', 'position': 246}, {'token': ' purposely', 'token_id': 39033, 'type': 'input', 'position': 247}, {'token': ' do', 'token_id': 466, 'type': 'input', 'position': 248}, {'token': ' something', 'token_id': 1223, 'type': 'input', 'position': 249}, {'token': ' perverse', 'token_id': 43060, 'type': 'input', 'position': 250}, {'token': ' out', 'token_id': 503, 'type': 'input', 'position': 251}, {'token': ' of', 'token_id': 286, 'type': 'input', 'position': 252}, {'token': ' simple', 'token_id': 2829, 'type': 'input', 'position': 253}, {'token': ' ing', 'token_id': 5347, 'type': 'input', 'position': 254}, {'token': 'rat', 'token_id': 10366, 'type': 'input', 'position': 255}, {'token': 'itude', 'token_id': 3984, 'type': 'input', 'position': 256}, {'token': ',', 'token_id': 11, 'type': 'input', 'position': 257}, {'token': ' simply', 'token_id': 2391, 'type': 'input', 'position': 258}, {'token': ' to', 'token_id': 284, 'type': 'input', 'position': 259}, {'token': ' gain', 'token_id': 4461, 'type': 'input', 'position': 260}, {'token': ' his', 'token_id': 465, 'type': 'input', 'position': 261}, {'token': ' point', 'token_id': 966, 'type': 'input', 'position': 262}, {'token': '.', 'token_id': 13, 'type': 'input', 'position': 263}, {'token': ' And', 'token_id': 843, 'type': 'input', 'position': 264}, {'token': ' if', 'token_id': 611, 'type': 'input', 'position': 265}, {'token': ' he', 'token_id': 339, 'type': 'input', 'position': 266}, {'token': ' does', 'token_id': 857, 'type': 'input', 'position': 267}, {'token': ' not', 'token_id': 407, 'type': 'input', 'position': 268}, {'token': ' find', 'token_id': 1064, 'type': 'input', 'position': 269}, {'token': ' means', 'token_id': 1724, 'type': 'input', 'position': 270}, {'token': ' he', 'token_id': 339, 'type': 'input', 'position': 271}, {'token': ' will', 'token_id': 481, 'type': 'input', 'position': 272}, {'token': ' cont', 'token_id': 542, 'type': 'input', 'position': 273}, {'token': 'rive', 'token_id': 11590, 'type': 'input', 'position': 274}, {'token': ' destruction', 'token_id': 8166, 'type': 'input', 'position': 275}, {'token': ' and', 'token_id': 290, 'type': 'input', 'position': 276}, {'token': ' chaos', 'token_id': 11918, 'type': 'input', 'position': 277}, {'token': ',', 'token_id': 11, 'type': 'input', 'position': 278}, {'token': ' will', 'token_id': 481, 'type': 'input', 'position': 279}, {'token': ' cont', 'token_id': 542, 'type': 'input', 'position': 280}, {'token': 'rive', 'token_id': 11590, 'type': 'input', 'position': 281}, {'token': ' suffer', 'token_id': 8659, 'type': 'input', 'position': 282}, {'token': 'ings', 'token_id': 654, 'type': 'input', 'position': 283}, {'token': ' of', 'token_id': 286, 'type': 'input', 'position': 284}, {'token': ' all', 'token_id': 477, 'type': 'input', 'position': 285}, {'token': ' sorts', 'token_id': 10524, 'type': 'input', 'position': 286}, {'token': ',', 'token_id': 11, 'type': 'input', 'position': 287}, {'token': ' only', 'token_id': 691, 'type': 'input', 'position': 288}, {'token': ' to', 'token_id': 284, 'type': 'input', 'position': 289}, {'token': ' gain', 'token_id': 4461, 'type': 'input', 'position': 290}, {'token': ' his', 'token_id': 465, 'type': 'input', 'position': 291}, {'token': ' point', 'token_id': 966, 'type': 'input', 'position': 292}, {'token': '!', 'token_id': 0, 'type': 'input', 'position': 293}, {'token': ' He', 'token_id': 679, 'type': 'input', 'position': 294}, {'token': ' will', 'token_id': 481, 'type': 'input', 'position': 295}, {'token': ' launch', 'token_id': 4219, 'type': 'input', 'position': 296}, {'token': ' a', 'token_id': 257, 'type': 'input', 'position': 297}, {'token': ' curse', 'token_id': 17328, 'type': 'input', 'position': 298}, {'token': ' upon', 'token_id': 2402, 'type': 'input', 'position': 299}, {'token': ' the', 'token_id': 262, 'type': 'input', 'position': 300}, {'token': ' world', 'token_id': 995, 'type': 'input', 'position': 301}, {'token': ',', 'token_id': 11, 'type': 'input', 'position': 302}, {'token': ' and', 'token_id': 290, 'type': 'input', 'position': 303}, {'token': ' as', 'token_id': 355, 'type': 'input', 'position': 304}, {'token': ' only', 'token_id': 691, 'type': 'input', 'position': 305}, {'token': ' man', 'token_id': 582, 'type': 'input', 'position': 306}, {'token': ' can', 'token_id': 460, 'type': 'input', 'position': 307}, {'token': ' curse', 'token_id': 17328, 'type': 'input', 'position': 308}, {'token': ' (', 'token_id': 357, 'type': 'input', 'position': 309}, {'token': 'it', 'token_id': 270, 'type': 'input', 'position': 310}, {'token': ' is', 'token_id': 318, 'type': 'input', 'position': 311}, {'token': ' his', 'token_id': 465, 'type': 'input', 'position': 312}, {'token': ' privilege', 'token_id': 11941, 'type': 'input', 'position': 313}, {'token': ',', 'token_id': 11, 'type': 'input', 'position': 314}, {'token': ' the', 'token_id': 262, 'type': 'input', 'position': 315}, {'token': ' primary', 'token_id': 4165, 'type': 'input', 'position': 316}, {'token': ' distinction', 'token_id': 12941, 'type': 'input', 'position': 317}, {'token': ' between', 'token_id': 1022, 'type': 'input', 'position': 318}, {'token': ' him', 'token_id': 683, 'type': 'input', 'position': 319}, {'token': ' and', 'token_id': 290, 'type': 'input', 'position': 320}, {'token': ' other', 'token_id': 584, 'type': 'input', 'position': 321}, {'token': ' animals', 'token_id': 4695, 'type': 'input', 'position': 322}, {'token': '),', 'token_id': 828, 'type': 'input', 'position': 323}, {'token': ' may', 'token_id': 743, 'type': 'input', 'position': 324}, {'token': ' be', 'token_id': 307, 'type': 'input', 'position': 325}, {'token': ' by', 'token_id': 416, 'type': 'input', 'position': 326}, {'token': ' his', 'token_id': 465, 'type': 'input', 'position': 327}, {'token': ' curse', 'token_id': 17328, 'type': 'input', 'position': 328}, {'token': ' alone', 'token_id': 3436, 'type': 'input', 'position': 329}, {'token': ' he', 'token_id': 339, 'type': 'input', 'position': 330}, {'token': ' will', 'token_id': 481, 'type': 'input', 'position': 331}, {'token': ' attain', 'token_id': 18188, 'type': 'input', 'position': 332}, {'token': ' his', 'token_id': 465, 'type': 'input', 'position': 333}, {'token': ' object', 'token_id': 2134, 'type': 'input', 'position': 334}, {'token': '--', 'token_id': 438, 'type': 'input', 'position': 335}, {'token': 'that', 'token_id': 5562, 'type': 'input', 'position': 336}, {'token': ' is', 'token_id': 318, 'type': 'input', 'position': 337}, {'token': ',', 'token_id': 11, 'type': 'input', 'position': 338}, {'token': ' convince', 'token_id': 11508, 'type': 'input', 'position': 339}, {'token': ' himself', 'token_id': 2241, 'type': 'input', 'position': 340}, {'token': ' that', 'token_id': 326, 'type': 'input', 'position': 341}, {'token': ' he', 'token_id': 339, 'type': 'input', 'position': 342}, {'token': ' is', 'token_id': 318, 'type': 'input', 'position': 343}, {'token': ' a', 'token_id': 257, 'type': 'input', 'position': 344}, {'token': ' man', 'token_id': 582, 'type': 'input', 'position': 345}, {'token': ' and', 'token_id': 290, 'type': 'input', 'position': 346}, {'token': ' not', 'token_id': 407, 'type': 'input', 'position': 347}, {'token': ' a', 'token_id': 257, 'type': 'input', 'position': 348}, {'token': ' piano', 'token_id': 19132, 'type': 'input', 'position': 349}, {'token': '-', 'token_id': 12, 'type': 'input', 'position': 350}, {'token': 'key', 'token_id': 2539, 'type': 'input', 'position': 351}, {'token': '!', 'token_id': 0, 'type': 'input', 'position': 352}, {'token': '\\n', 'token_id': 198, 'type': 'input', 'position': 353}, {'token': 'This', 'token_id': 1212, 'type': 'output', 'position': 354}], 'factors': [[[0.0, 0.04373786970973015, 0.02844376116991043, 0.04928404092788696, 0.07534755021333694, 0.13022013008594513, 0.023601235821843147, 0.0, 0.05577173829078674, 0.04479074478149414, 0.03774876892566681, 0.08469446003437042, 0.008617965504527092, 0.0, 0.02704756148159504, 0.01552517618983984, 0.0, 0.012902486138045788, 0.0042788926512002945, 0.0, 0.025807879865169525, 0.0, 0.0, 0.0, 0.0, 0.03992551565170288, 0.0, 0.0, 0.0, 0.0, 0.0, 0.0, 0.0, 0.0, 0.0, 0.0, 0.0, 0.08302852511405945, 0.06213398650288582, 0.12594273686408997, 0.057035963982343674, 0.0, 0.0, 0.0, 0.0, 0.0, 0.0, 0.0, 0.0, 0.0, 0.0, 0.0, 0.0, 0.0, 0.0, 0.0, 0.022524164989590645, 0.03717562183737755, 0.0, 0.0, 0.0, 0.10878736525774002, 0.04882233962416649, 0.024712983518838882, 0.0, 0.039949219673871994, 0.0, 0.0, 0.0, 0.0, 0.0, 0.0, 0.0, 0.0, 0.0, 0.0, 0.0, 0.0, 0.0, 0.0, 0.0, 0.20239302515983582, 0.08407076448202133, 0.0274354275316, 0.012691956013441086, 0.0, 0.0, 0.0, 0.0, 0.0, 0.006787121761590242, 0.023689163848757744, 0.0, 0.014665658585727215, 0.0, 0.0, 0.022838851436972618, 0.06717565655708313, 0.0075431945733726025, 0.015057118609547615, 0.05476679280400276, 0.0, 0.0, 0.24413146078586578, 0.0017948431195691228, 0.01712736487388611, 0.033060383051633835, 0.07708073407411575, 0.010968410409986973, 0.1239900067448616, 0.06607610732316971, 0.10957414656877518, 0.1593882143497467, 0.0720643550157547, 0.05354851111769676, 0.06058906391263008, 0.11857807636260986, 0.1775871217250824, 0.1606297343969345, 0.01570001244544983, 0.049984682351350784, 0.08067095279693604, 0.07415451854467392, 0.29012545943260193, 0.17224964499473572, 0.07979532331228256, 0.15361031889915466, 0.20749413967132568, 0.20138166844844818, 0.1487421691417694, 0.1773393303155899, 0.15701834857463837, 0.1378275454044342, 0.16040994226932526, 0.18350039422512054, 0.1680901199579239, 0.16052159667015076, 0.16047745943069458, 0.10643047839403152, 0.34624719619750977, 0.15152154862880707, 0.21056349575519562, 0.16164611279964447, 0.16181305050849915, 0.16744260489940643, 0.17189142107963562, 0.12298828363418579, 0.285480260848999, 0.19813548028469086, 0.14597170054912567, 0.25524264574050903, 0.27515536546707153, 0.18736861646175385, 0.19806402921676636, 0.42803364992141724, 0.2471381276845932, 0.25840798020362854, 0.2772970199584961, 0.180636927485466, 0.2805926203727722, 0.26571792364120483, 0.2929649353027344, 0.24634942412376404, 0.28783848881721497, 0.31269022822380066, 0.2069138139486313, 0.38599368929862976, 0.33664950728416443, 0.3080095052719116, 0.33045119047164917, 0.29869017004966736, 0.42105990648269653, 0.20715299248695374, 0.292784720659256, 0.3167937994003296, 0.42542487382888794, 0.3253062665462494, 0.2528625428676605, 0.3106034994125366, 0.2483971118927002, 0.20779156684875488, 0.22997543215751648, 0.33514752984046936, 0.2938179671764374, 0.2873537838459015, 0.27784860134124756, 0.2575753629207611, 0.2016124129295349, 0.3162938058376312, 0.2726593613624573, 0.39514049887657166, 0.3586556911468506, 0.35155153274536133, 0.3780612051486969, 0.3291575312614441, 0.23106615245342255, 0.18179303407669067, 0.30797871947288513, 0.29283902049064636, 0.2875611484050751, 0.5095195174217224, 0.3654065728187561, 0.28291618824005127, 0.2822239398956299, 0.263278603553772, 0.2701597809791565, 0.23904800415039062, 0.32116347551345825, 0.18750178813934326, 0.38529589772224426, 0.33622097969055176, 0.2632802128791809, 0.5027482509613037, 0.3398219347000122, 0.3123912215232849, 0.37955689430236816, 0.17263852059841156, 0.4638327360153198, 0.33171960711479187, 0.24090667068958282, 0.17914582788944244, 0.265214204788208, 0.2385197877883911, 0.14265544712543488, 0.4566299021244049, 0.31651487946510315, 0.3043367266654968, 0.13854655623435974, 0.21451088786125183, 0.21753959357738495, 0.21465462446212769, 0.21927489340305328, 0.2231888771057129, 0.21073825657367706, 0.1961752325296402, 0.17949178814888, 0.10973981767892838, 0.40304163098335266, 0.2978399097919464, 0.12594053149223328, 0.12475955486297607, 0.26435741782188416, 0.17711111903190613, 0.24081410467624664, 0.10063854604959488, 0.22020693123340607, 0.11543911695480347, 0.19640985131263733, 0.16634370386600494, 0.2752678692340851, 0.10458755493164062, 0.20562097430229187, 0.12495239078998566, 0.1988505870103836, 0.1019616350531578, 0.09908459335565567, 0.05966481193900108, 0.0425955206155777, 0.196551114320755, 0.10813555121421814, 0.0783827006816864, 0.013180199079215527, 0.12329438328742981, 0.09017623215913773, 0.07259835302829742, 0.15155689418315887, 0.0323420912027359, 0.11671291291713715, 0.15970921516418457, 0.07962645590305328, 0.16811536252498627, 0.036460552364587784, 0.0, 0.03990234434604645, 0.00886174663901329, 0.090257428586483, 0.05323667824268341, 0.0717463418841362, 0.0, 0.0, 0.022117262706160545, 0.0002882808621507138, 0.03210795670747757, 0.038484830409288406, 0.03460241109132767, 0.05331164598464966, 0.09287868440151215, 0.0, 0.25768306851387024, 0.04548364132642746, 0.0, 0.0, 0.04360950365662575, 0.070729099214077, 0.0, 0.0, 0.02359035238623619, 0.0, 0.0, 0.050965458154678345, 0.0, 0.055327024310827255, 0.0, 0.007862292230129242, 0.07902102917432785, 0.21649883687496185, 0.0, 0.017777496948838234, 0.0, 0.05299605429172516, 0.02182202786207199, 0.0, 0.0, 0.01151025015860796, 0.0, 0.004783421289175749, 0.04796907678246498, 0.02967016026377678, 0.04401838779449463, 0.0, 0.011353627778589725, 0.08285308629274368, 0.03743487223982811, 0.00685803173109889, 0.0, 0.0, 0.0, 0.0, 0.0, 0.03130369260907173, 0.0, 0.0, 0.0, 0.0, 0.024170540273189545, 0.0, 0.07934939116239548, 0.0, 0.0, 0.0, 0.0, 0.07278916984796524, 0.0, 0.0, 0.0, 0.0, 0.000929181813262403, 0.08132028579711914, 0.005471484269946814, 0.0, 0.01143576204776764, 0.0, 0.0003117198939435184, 0.020087411627173424, 0.020087411627173424], [0.0, 0.02768661640584469, 0.0, 0.021526193246245384, 0.04976242780685425, 0.008422375656664371, 0.0, 0.0, 0.0, 0.06358829140663147, 0.061324816197156906, 0.02205457165837288, 0.0, 0.01599051058292389, 0.12591752409934998, 0.016240159049630165, 0.0, 0.05219322815537453, 0.022818436846137047, 0.0, 0.05221712216734886, 0.0455184169113636, 0.07436355203390121, 0.024309422820806503, 0.0, 0.023054419085383415, 0.0, 0.0, 0.0, 0.0, 0.0, 0.035774264484643936, 0.09172723442316055, 0.0, 0.06100224331021309, 0.0, 0.0, 0.0, 0.0, 0.0, 0.0, 0.0, 0.027040701359510422, 0.0, 0.0, 0.0, 0.0, 0.0030843995045870543, 0.019910383969545364, 0.0, 0.009025325067341328, 0.0, 0.0, 0.0, 0.0, 0.0, 0.0, 0.0, 0.0, 0.0, 0.0, 0.0, 0.0, 0.0, 0.0, 0.0, 0.0, 0.0, 0.0, 0.0, 0.061280496418476105, 0.0, 0.0, 0.0, 0.029144082218408585, 0.0, 0.006256822030991316, 0.0, 0.0016023298958316445, 0.0, 0.07322914898395538, 0.0, 0.006245841272175312, 0.024680275470018387, 0.01892964169383049, 0.0, 0.0, 0.011574551463127136, 0.0, 0.0, 0.0, 0.0, 0.0, 0.0, 0.0, 0.0, 0.0, 0.0, 0.0, 0.0, 0.014266769401729107, 0.0, 0.0, 0.0, 0.0, 0.0, 0.0, 0.03491039574146271, 0.0, 0.0, 0.0, 0.0, 0.0, 0.0, 0.0, 0.0, 0.0009496745187789202, 0.0, 0.0, 0.0, 0.0, 0.0, 0.0, 0.0, 0.0, 0.0, 0.0, 0.035355761647224426, 0.0, 0.0, 0.0, 0.0, 0.0, 0.0, 0.0, 0.0, 0.007146627176553011, 0.0, 0.0, 0.0, 0.0, 0.0, 0.0, 0.0, 0.0, 0.0, 0.0, 0.0, 0.0, 0.0, 0.0, 0.0, 0.0, 0.0, 0.0, 0.012929984368383884, 0.0, 0.0, 0.0, 0.0, 0.0, 0.00972865242511034, 0.04081153869628906, 0.0, 0.0, 0.0, 0.0, 0.0, 0.013336410745978355, 0.0, 0.0, 0.0, 0.0, 0.0, 0.07640434056520462, 0.05046161636710167, 0.04853815585374832, 0.0, 0.03266899660229683, 0.08625331521034241, 0.0, 0.0, 0.008179185912013054, 0.05994866415858269, 0.0, 0.04833202436566353, 0.0, 0.0, 0.04777707904577255, 0.0, 0.0, 0.0, 0.02062247507274151, 0.0, 0.03258004039525986, 0.017212996259331703, 0.0, 0.0, 0.109306201338768, 0.11613553762435913, 0.0, 0.02863267995417118, 0.10384479910135269, 0.14866527915000916, 0.045462872833013535, 0.1291942596435547, 0.10460799187421799, 0.1381983906030655, 0.08748865127563477, 0.17002737522125244, 0.3065861761569977, 0.08721251040697098, 0.06870962679386139, 0.06218500807881355, 0.13062646985054016, 0.02742496319115162, 0.19300559163093567, 0.03663569688796997, 0.084633469581604, 0.2572152018547058, 0.19616298377513885, 0.1762056052684784, 0.215157613158226, 0.2814065217971802, 0.14435653388500214, 0.13133573532104492, 0.29369691014289856, 0.24017807841300964, 0.05306260287761688, 0.41914355754852295, 0.16007187962532043, 0.27173730731010437, 0.11369621753692627, 0.14068521559238434, 0.3914431035518646, 0.14637331664562225, 0.3218197524547577, 0.25476810336112976, 0.21342504024505615, 0.36585161089897156, 0.39950618147850037, 0.4826129078865051, 0.05308482423424721, 0.1672644317150116, 0.3162664771080017, 0.3490113317966461, 0.32959678769111633, 0.42770084738731384, 0.1424163430929184, 0.20044425129890442, 0.18138588964939117, 0.3060745596885681, 0.5397318005561829, 0.20729054510593414, 0.4069783687591553, 0.5988604426383972, 0.47728022933006287, 0.38107097148895264, 0.7561464905738831, 0.6362648606300354, 0.10850527137517929, 0.6668208241462708, 0.23929853737354279, 0.4694662094116211, 0.5590753555297852, 0.5114568471908569, 0.4355461299419403, 0.22618570923805237, 0.6630949378013611, 0.1163296177983284, 0.24737106263637543, 0.4071362614631653, 0.6310322284698486, 0.25051483511924744, 0.23101398348808289, 0.29523521661758423, 0.6142110824584961, 0.2960794270038605, 0.5134573578834534, 0.5564459562301636, 0.30760425329208374, 0.2819622755050659, 0.19891633093357086, 0.3378113806247711, 0.6056212186813354, 0.8616230487823486, 0.3430149555206299, 0.48077264428138733, 0.36187222599983215, 0.6961024403572083, 0.2718540132045746, 0.5887354612350464, 0.3855082094669342, 0.3506847321987152, 0.40405330061912537, 0.5044862031936646, 0.27487999200820923, 0.7387847900390625, 0.31991881132125854, 0.4244750142097473, 0.7158880829811096, 0.3885270357131958, 0.4999608099460602, 0.6238779425621033, 0.3917381167411804, 0.4116840660572052, 0.8858065605163574, 0.38376903533935547, 0.3342668414115906, 0.3958510756492615, 0.44077369570732117, 0.5707265734672546, 0.5816560387611389, 0.3710341453552246, 0.5050683617591858, 0.5879987478256226, 0.431682825088501, 0.4288935363292694, 0.3936906158924103, 0.616080105304718, 0.5152809619903564, 0.38291966915130615, 0.40126723051071167, 0.3450210690498352, 0.3201366066932678, 0.42790254950523376, 0.8117131590843201, 0.5290667414665222, 0.3793969452381134, 0.42317691445350647, 0.5404468774795532, 0.5238605737686157, 0.24550023674964905, 0.47568294405937195, 0.36978086829185486, 0.7445769309997559, 0.39312833547592163, 0.4421188533306122, 0.47174742817878723, 0.26013994216918945, 0.672897219657898, 0.45724156498908997, 0.48045864701271057, 0.390586793422699, 0.5777251720428467, 0.7310842275619507, 0.524730920791626, 0.8337188959121704, 0.516427218914032, 0.7795843482017517, 0.5228203535079956, 0.8211022019386292, 0.45110392570495605, 0.3252164125442505, 0.3252164125442505], [1.9128972291946411, 0.02216491289436817, 0.007266704458743334, 0.008361936546862125, 0.007065739016979933, 0.005465028341859579, 0.004829746671020985, 0.000419596501160413, 0.007241968996822834, 0.003978258464485407, 0.009738106280565262, 0.05173821747303009, 0.0, 0.0018623210489749908, 0.00202002446167171, 0.0026269033551216125, 0.006283619441092014, 0.00012991015682928264, 0.0, 0.0, 0.012861761264503002, 0.014016980305314064, 0.0046747527085244656, 0.0, 0.0, 0.012437940575182438, 0.0, 0.0, 0.0, 0.0, 0.0, 0.0, 0.0, 0.0, 0.0, 0.0, 0.0, 0.04466487839818001, 0.0, 0.0, 0.0, 0.0, 0.0, 0.0, 0.0, 0.0, 0.00038814873551018536, 0.0, 0.0, 0.0, 0.0, 0.0, 0.0, 0.0006514138076454401, 0.0014258341398090124, 0.0, 0.0, 0.0, 0.0, 0.0, 0.0, 0.0, 0.0, 0.0, 0.0, 0.0, 0.0, 0.0, 0.0, 0.0, 0.0, 0.004558824468404055, 0.002796588698402047, 0.0, 0.0, 0.0, 0.0, 0.0, 0.0013246199814602733, 0.0, 0.0006252574385143816, 0.0, 0.024202238768339157, 0.0, 0.0, 0.0076172444969415665, 0.0, 0.0, 0.0, 0.0, 0.008384141139686108, 0.0, 0.0, 0.004360576625913382, 0.0, 0.0, 0.0, 0.0, 0.0, 0.0, 0.0010375940473750234, 0.020746564492583275, 0.0, 0.0, 0.002272438956424594, 0.0, 0.0, 0.001844254438765347, 0.0, 0.0, 0.0, 0.0, 0.0, 0.0, 0.002158388262614608, 0.0, 0.0, 0.0, 0.0, 0.0022300800774246454, 0.0009749767486937344, 0.00039202056359499693, 0.0, 0.012613140046596527, 0.0, 0.0, 0.0, 0.02880265563726425, 0.0, 0.0, 0.0, 0.0, 0.0, 0.0, 0.0, 0.0, 0.0006506271311081946, 0.036999206990003586, 0.0011051399633288383, 0.01408371888101101, 0.0, 0.0, 0.0008037425577640533, 0.0, 0.0, 0.0, 0.0017120823031291366, 0.0, 0.0, 0.0, 0.0, 0.0, 0.0, 0.0, 0.009635346941649914, 0.0, 0.0, 0.0, 0.0, 0.0, 0.0, 0.0, 0.0, 0.01679198630154133, 0.0, 0.0, 0.04181996360421181, 0.0, 0.0, 0.0, 0.0, 0.030950183048844337, 0.0, 0.0, 0.0, 0.0, 0.0, 0.0, 0.0, 0.0, 0.0, 0.0, 0.0, 0.0, 0.0, 0.0, 0.0, 0.0, 0.0, 0.0, 0.03997800871729851, 0.0, 0.0, 0.044280096888542175, 0.0, 0.0, 0.0, 0.0, 0.0, 0.0, 0.0, 0.0, 0.0, 0.0, 0.0, 0.0, 0.056947674602270126, 0.0, 0.0, 0.0, 0.027970418334007263, 0.0, 0.0, 0.014995508827269077, 0.00018652898143045604, 0.0, 0.0, 0.0, 0.0, 0.0, 0.0, 0.0, 0.0, 0.0, 0.0, 0.013781871646642685, 0.0, 0.0, 0.0003814613737631589, 0.0, 0.0, 0.0, 0.0, 0.0, 0.0, 0.0, 0.0, 0.0, 0.02003389224410057, 0.0, 0.0, 0.0, 0.011780762113630772, 0.0, 0.0, 0.0, 0.0, 0.0, 0.0, 0.0, 0.0, 0.0, 0.0, 0.0, 0.0, 0.0, 0.0, 0.0, 0.00401815352961421, 0.0, 0.007389568258076906, 0.0, 0.0, 0.00043300155084580183, 0.05642705038189888, 0.015581822022795677, 0.0, 0.0, 0.0, 0.0, 0.012820491567254066, 0.0, 0.0, 0.0, 0.0, 0.0, 0.0010016909800469875, 0.001812452799640596, 0.0, 0.0, 0.0, 0.0, 0.0, 0.0036608949303627014, 0.0, 0.028250206261873245, 0.0, 0.0, 0.0, 0.0, 0.008609730750322342, 0.0, 0.0, 0.0056630088947713375, 0.01880120486021042, 0.0, 0.0, 0.0, 0.0, 0.0, 0.0, 0.003952844068408012, 0.0, 0.002272394485771656, 0.0, 0.0, 0.0015913714887574315, 0.0, 0.0, 0.0005032703629694879, 0.0015785777941346169, 0.0, 0.0, 0.0, 0.0, 0.0, 0.0, 0.0, 0.0009050246444530785, 0.0, 0.0008085040608420968, 0.0, 0.0, 0.0010590950259938836, 0.0, 0.0, 0.0, 0.0, 0.0, 0.0012585889780893922, 0.0, 0.0, 0.0009772833436727524, 0.0, 0.0, 0.0, 0.0, 0.0, 0.0, 0.0, 0.002465188968926668, 0.0005527119501493871, 0.0, 0.0, 0.0, 0.003814588999375701, 0.0025175337214022875, 0.0, 0.0, 0.0, 0.0011341149220243096, 0.000407077488489449, 0.007577504497021437, 0.005507454741746187, 0.005507454741746187], [0.0, 0.20926722884178162, 0.20367862284183502, 0.27408045530319214, 0.31423935294151306, 0.3253289461135864, 0.22953851521015167, 0.11689039319753647, 0.27278071641921997, 0.4336719810962677, 0.25517457723617554, 0.37613779306411743, 0.19915622472763062, 0.21354135870933533, 0.44499802589416504, 0.2757752239704132, 0.13057057559490204, 0.5169328451156616, 0.3111320436000824, 0.24137312173843384, 0.5256248712539673, 0.513163149356842, 0.48029330372810364, 0.5658444762229919, 0.3816690444946289, 0.5975452065467834, 0.2559840679168701, 0.3745759427547455, 0.4097972810268402, 0.2687629461288452, 0.4586975872516632, 0.7183794379234314, 0.6659765839576721, 0.49366140365600586, 0.7469249367713928, 0.4523918032646179, 0.4481930732727051, 0.7430393099784851, 0.7416043877601624, 0.6346991658210754, 0.8023046851158142, 0.4992653429508209, 0.7924631834030151, 0.12412996590137482, 0.5850739479064941, 0.4554576575756073, 0.7250153422355652, 0.8315563201904297, 0.8303279280662537, 0.5770817995071411, 0.7594974637031555, 0.615624189376831, 0.5492851138114929, 0.6585435271263123, 0.5178138017654419, 0.5071904063224792, 0.8838730454444885, 0.7853255867958069, 0.5297448635101318, 0.662655234336853, 0.5438621044158936, 0.7106105089187622, 0.8293812274932861, 0.7355222702026367, 0.5390468239784241, 0.8492050170898438, 0.6031112670898438, 0.516359806060791, 0.5841996669769287, 0.538719117641449, 0.8138558864593506, 0.5977532863616943, 0.5707575082778931, 0.843971312046051, 0.8131681084632874, 0.5634289979934692, 0.8253809213638306, 0.52614825963974, 0.5656507015228271, 0.4687141180038452, 0.7709891200065613, 0.5931214094161987, 0.6525559425354004, 0.7520674467086792, 0.7933191657066345, 0.3922392427921295, 0.40897995233535767, 0.5211083292961121, 0.41584980487823486, 0.410431832075119, 0.4090896248817444, 0.4515777826309204, 0.397594690322876, 0.6216347217559814, 0.48048025369644165, 0.4771585166454315, 0.6068176031112671, 0.6489136219024658, 0.35931840538978577, 0.40892499685287476, 0.5632221102714539, 0.3460417091846466, 0.39229816198349, 0.4135745167732239, 0.37996774911880493, 0.37059423327445984, 0.3673936724662781, 0.5647453665733337, 0.3615682125091553, 0.24992643296718597, 0.315946102142334, 0.5378844738006592, 0.5304024815559387, 0.20041987299919128, 0.2622886300086975, 0.23843969404697418, 0.5092491507530212, 0.49406003952026367, 0.34426215291023254, 0.1427297592163086, 0.3192383050918579, 0.10234573483467102, 0.18895485997200012, 0.20557264983654022, 0.3642187714576721, 0.25481322407722473, 0.43182483315467834, 0.35881751775741577, 0.4037364423274994, 0.23946145176887512, 0.271887868642807, 0.17857211828231812, 0.14674104750156403, 0.035734567791223526, 0.18906114995479584, 0.14826339483261108, 0.3052101731300354, 0.2235170602798462, 0.09171246737241745, 0.10669389367103577, 0.07347527146339417, 0.12168440967798233, 0.06848260760307312, 0.012135856784880161, 0.06686218082904816, 0.0, 0.0, 0.20061570405960083, 0.0, 0.08382703363895416, 0.0, 0.17935293912887573, 0.01340810488909483, 0.0, 0.0, 0.25248444080352783, 0.09382662922143936, 0.1853410303592682, 0.0, 0.18356530368328094, 0.0, 0.10131953656673431, 0.12655922770500183, 0.06333532184362411, 0.16130736470222473, 0.0, 0.12654203176498413, 0.0, 0.06957078725099564, 0.14139334857463837, 0.018682971596717834, 0.0, 0.0, 0.016231367364525795, 0.13059449195861816, 0.01060065533965826, 0.13507221639156342, 0.0, 0.16049425303936005, 0.17555265128612518, 0.0, 0.0, 0.15526102483272552, 0.16092456877231598, 0.0, 0.19988080859184265, 0.0, 0.0, 0.10165077447891235, 0.0, 0.12163100391626358, 0.0, 0.11817581951618195, 0.0, 0.11151891201734543, 0.0, 0.0, 0.0, 0.06259523332118988, 0.0, 0.0, 0.15017828345298767, 0.10898453742265701, 0.1266111135482788, 0.0, 0.09784229844808578, 0.14390413463115692, 0.059395916759967804, 0.0, 0.0, 0.0, 0.10937926918268204, 0.0, 0.06308607012033463, 0.0, 0.0, 0.0, 0.0, 0.14013507962226868, 0.07200004905462265, 0.0, 0.07682187110185623, 0.0, 0.0, 0.0, 0.06778476387262344, 0.003101561451330781, 0.0, 0.0, 0.0, 0.0, 0.06866370886564255, 0.0, 0.0, 0.09326355159282684, 0.0, 0.0, 0.0, 0.023223571479320526, 0.0, 0.0, 0.0, 0.0, 0.0, 0.0, 0.15023711323738098, 0.0, 0.0, 0.0, 0.06683666259050369, 0.0, 0.11642853915691376, 0.11918039619922638, 0.0, 0.0, 0.0, 0.0, 0.0, 0.0, 0.007517313584685326, 0.0, 0.0, 0.025497596710920334, 0.12433557212352753, 0.09617727249860764, 0.03242204338312149, 0.0, 0.033773429691791534, 0.0, 0.004051778931170702, 0.053975921124219894, 0.0, 0.0, 0.0, 0.0, 0.005616864655166864, 0.14718909561634064, 0.0, 0.0, 0.0, 0.0, 0.0, 0.0, 0.021108893677592278, 0.1656617969274521, 0.0, 0.0, 0.0, 0.0027759226504713297, 0.059196021407842636, 0.0, 0.0, 0.0405452661216259, 0.19463902711868286, 0.0, 0.0, 0.04359576478600502, 0.07850059866905212, 0.0, 0.13582871854305267, 0.1373213827610016, 0.08649653196334839, 0.0, 0.21635720133781433, 0.21052072942256927, 0.0364481657743454, 0.0, 0.06374911963939667, 0.0, 0.18213793635368347, 0.08849246054887772, 0.0, 0.0, 0.0, 0.0, 0.21553820371627808, 0.06071992963552475, 0.0, 0.16114598512649536, 0.0, 0.23933212459087372, 0.24535199999809265, 0.07487849146127701, 0.08905641734600067, 0.14040599763393402, 0.0, 0.08413667231798172, 0.01158951222896576, 0.0, 0.08094989508390427, 0.0, 0.0, 0.0, 0.047280870378017426, 0.07498178631067276, 0.05558275803923607, 0.2223767787218094, 0.0, 0.0, 0.0, 0.0, 0.211739644408226, 0.0, 0.015228008851408958, 0.22285006940364838, 0.002363842912018299, 0.2993684411048889, 0.029717598110437393, 0.25385522842407227, 0.0, 0.20896278321743011, 0.001283796620555222, 0.25029975175857544, 0.23618808388710022, 0.23618808388710022], [0.0, 0.17974592745304108, 0.034838899970054626, 0.1712811440229416, 0.02921428717672825, 0.05676770210266113, 0.025841113179922104, 0.011327181942760944, 0.021644197404384613, 0.018525445833802223, 0.13780170679092407, 0.022076286375522614, 0.41669830679893494, 0.011397426947951317, 0.05801478400826454, 0.022744128480553627, 0.01646387204527855, 0.011771099641919136, 0.009480451233685017, 0.017943579703569412, 0.005489498842507601, 0.040899358689785004, 0.003439691849052906, 0.010368244722485542, 0.3559406101703644, 0.022501865401864052, 0.0, 0.0, 0.0, 0.0, 0.3491487503051758, 0.0022533016745001078, 0.03611895814538002, 0.0, 0.0, 0.008740080520510674, 0.0, 0.0, 0.004054269287735224, 0.0, 0.0, 0.0, 0.0, 0.0, 0.0, 0.0, 0.0, 0.0, 0.023719964548945427, 0.0, 0.0, 0.0, 0.36137932538986206, 0.0, 0.0, 0.0, 0.0, 0.0, 0.4170691668987274, 0.0, 0.0, 0.007093155290931463, 0.0, 0.0, 0.0, 0.0, 0.0, 0.0, 0.0, 0.0, 0.0, 0.0, 0.3379666805267334, 0.0, 0.03228640556335449, 0.0, 0.0, 0.37003085017204285, 0.00253998301923275, 0.0, 0.0, 0.0, 0.0, 0.0, 0.0, 0.008520261384546757, 0.0, 0.0, 0.0, 0.0, 0.009889215230941772, 0.0, 0.0, 0.11827795952558517, 0.0, 0.0, 0.1420855075120926, 0.030192045494914055, 0.0, 0.0, 0.0038665328174829483, 0.4262191951274872, 0.0022845612838864326, 0.0, 0.0, 0.3772951364517212, 0.0268278606235981, 0.012088022194802761, 0.006432295776903629, 0.0, 0.005202543921768665, 0.04999752715229988, 0.0, 0.0, 0.0, 0.012538752518594265, 0.043369583785533905, 0.0, 0.00615554116666317, 0.009884713217616081, 0.009413561783730984, 0.0019104379462078214, 0.009651759639382362, 0.0025275126099586487, 0.007073311135172844, 0.0, 0.006713831797242165, 0.01521152164787054, 0.04482844099402428, 0.0003386063617654145, 0.013840947300195694, 0.010829692706465721, 0.39109721779823303, 0.0, 0.0, 0.005396475549787283, 0.01758725941181183, 0.08285950869321823, 0.0007069319253787398, 0.0, 0.39142587780952454, 0.0001858769537648186, 0.02057570032775402, 0.013352472335100174, 0.39110055565834045, 0.008132393471896648, 0.0013826214708387852, 0.03026502951979637, 0.4459914565086365, 0.008656919002532959, 0.01415651198476553, 0.007098353933542967, 0.0, 0.00516295013949275, 0.0007173220510594547, 0.010532945394515991, 0.008564170449972153, 0.004184626508504152, 0.0, 0.003544947598129511, 0.3573014736175537, 0.0035419987980276346, 0.016992948949337006, 0.0, 0.01718570850789547, 0.0, 4.7515990445390344e-05, 0.0, 0.002546160714700818, 0.012070756405591965, 0.07427183538675308, 0.0, 0.0, 0.08261720836162567, 0.004373445175588131, 0.0, 0.03813818469643593, 0.0, 0.0052645243704319, 0.04513602703809738, 0.007471473887562752, 0.0, 0.0011039120145142078, 0.03486679494380951, 0.019554346799850464, 0.0, 0.0, 0.0, 0.0, 0.007971092127263546, 0.0, 0.0, 0.012675264850258827, 0.0, 0.03097217157483101, 0.0, 0.0, 0.0, 0.0, 0.0, 0.01217303704470396, 0.0, 0.0, 0.03532339259982109, 0.0, 0.0023712599650025368, 0.019743263721466064, 0.01580651104450226, 0.0, 0.0, 0.0, 0.0013121142983436584, 0.0, 0.0, 0.1300826519727707, 0.0006883735186420381, 0.0, 0.009187085554003716, 0.0, 0.03880561143159866, 0.00680419011041522, 0.009196046739816666, 0.024481967091560364, 0.0, 0.0, 0.0, 0.04063291847705841, 0.0, 0.0, 0.0, 0.34337136149406433, 0.0, 0.0, 0.012720786035060883, 0.0, 0.0004906760877929628, 0.0, 0.0, 0.0017163311131298542, 0.393491268157959, 0.0, 0.0, 0.0015326845459640026, 0.0, 0.0, 0.0, 0.0, 0.0, 0.0, 0.019453024491667747, 0.0, 0.0, 0.0, 0.0, 0.0, 0.0, 0.0, 0.0, 0.0, 0.0, 0.003406892064958811, 0.3406465947628021, 0.0035315947607159615, 0.0040887207724153996, 0.014371538534760475, 0.0, 0.416357159614563, 0.0017111743800342083, 0.0, 0.0, 0.0, 0.4070066809654236, 0.0, 0.0, 0.0, 0.01850108988583088, 0.0, 0.013729051686823368, 0.0, 0.0, 0.0, 0.0, 0.0, 0.0, 0.0, 0.011139072477817535, 0.0, 0.0, 0.0, 0.0, 0.006941762752830982, 0.36738520860671997, 0.006655364762991667, 0.0, 0.4237014055252075, 0.0, 0.0023678066208958626, 0.044720493257045746, 0.0025219048839062452, 0.009211643598973751, 0.03561815619468689, 0.018972819671034813, 0.0, 0.0, 0.006853948347270489, 0.0, 0.11512251943349838, 0.005640225950628519, 0.0054405322298407555, 0.009431673213839531, 0.03678026795387268, 0.0, 0.36718276143074036, 0.0, 0.0, 0.03507552295923233, 0.0, 0.00025119082420133054, 0.0, 0.35875019431114197, 0.0015191062120720744, 0.012195417657494545, 0.02410098724067211, 0.0076626380905508995, 0.003460136242210865, 0.0, 0.0, 0.37719011306762695, 0.006369989365339279, 0.02745794504880905, 0.41647088527679443, 0.0, 0.0, 0.3717980682849884, 0.007851536385715008, 0.0025456538423895836, 0.031357090920209885, 0.0, 0.0, 0.0, 0.33919379115104675, 0.010296054184436798, 0.42527133226394653, 0.0, 0.043506596237421036, 0.11604327708482742, 0.0, 0.0, 0.047097478061914444, 0.0, 0.014006536453962326, 0.017425214871764183, 0.0, 0.024214765056967735, 0.024214765056967735], [0.0, 0.041556134819984436, 0.035883184522390366, 0.01842358149588108, 0.08374211937189102, 0.010188056156039238, 0.012873826548457146, 0.0, 0.016585025936365128, 0.04764500632882118, 0.014050906524062157, 0.012861739844083786, 0.0, 0.009388495236635208, 0.005493684206157923, 0.0, 0.0, 0.026908420026302338, 0.0, 0.0, 0.05656673014163971, 0.004802776500582695, 0.0, 0.0, 0.0, 0.0, 0.0, 0.0, 1.0020933151245117, 0.0, 0.0, 0.012786624021828175, 0.0, 0.0, 0.0059902118518948555, 0.0, 1.0384800434112549, 0.0, 0.0, 0.0, 0.0, 0.0, 0.004823328927159309, 0.0, 0.0, 0.0, 0.0, 0.0, 0.0, 0.0, 0.15716929733753204, 0.0, 0.0, 0.0, 0.0, 0.9966410994529724, 0.0, 0.0, 0.0, 0.0, 0.0, 0.0, 0.0, 0.013997131027281284, 0.0, 0.0, 0.0, 0.975742757320404, 0.0, 0.0, 0.05744228884577751, 0.0, 0.0, 0.009673534892499447, 0.008352590724825859, 0.0, 0.021370992064476013, 0.0, 0.009442654438316822, 1.017377257347107, 0.08471834659576416, 0.0, 0.0385834164917469, 0.0, 0.03974754363298416, 0.0, 0.0, 0.0, 0.0, 1.0394213199615479, 0.0, 0.0, 1.021972417831421, 0.023357367143034935, 0.003657337510958314, 0.0, 0.01420483086258173, 0.0, 0.0, 0.005930131301283836, 0.12709231674671173, 0.03668413311243057, 0.008338799700140953, 0.0, 0.0010949978604912758, 0.02212955616414547, 0.04712057486176491, 0.11531948298215866, 0.021746164187788963, 0.0, 0.015233826823532581, 0.07724732905626297, 0.0, 0.014264368452131748, 0.0058433255180716515, 1.0889655351638794, 0.06932484358549118, 0.0, 0.0, 0.021581431850790977, 0.03382296860218048, 0.028254128992557526, 1.130386471748352, 0.0, 0.09913765639066696, 0.017328491434454918, 0.022391457110643387, 0.01328074187040329, 0.005113879684358835, 0.012122676707804203, 0.0073329308070242405, 0.022201793268322945, 0.04098227992653847, 0.026643268764019012, 0.012431187555193901, 0.023195652291178703, 0.16416673362255096, 0.0791347324848175, 0.04724132642149925, 0.0, 0.037188947200775146, 0.014394478872418404, 0.027687473222613335, 1.0943509340286255, 0.028872936964035034, 0.02887945994734764, 0.018628276884555817, 0.07128529250621796, 0.05957157164812088, 0.02449076995253563, 0.029128022491931915, 0.068317711353302, 0.012957979924976826, 1.1054096221923828, 0.0, 0.05806143209338188, 0.003086912678554654, 0.06126418709754944, 0.0, 0.0539994090795517, 0.010301245376467705, 0.18114343285560608, 0.04697054624557495, 0.3020721971988678, 0.020010001957416534, 0.0, 0.0005968369077891111, 0.005979940295219421, 0.19903045892715454, 0.019616590812802315, 0.013314628973603249, 0.0, 0.0, 0.015752479434013367, 0.08615685999393463, 0.0, 0.028394322842359543, 0.0, 0.05813877284526825, 0.01671086996793747, 0.0, 1.0286190509796143, 0.03709232807159424, 0.022908004000782967, 0.0053220484405756, 0.04348330572247505, 0.0, 0.0, 0.04028507322072983, 0.006904406938701868, 0.0, 0.0, 0.016977738589048386, 0.0, 0.0, 0.0, 0.0, 0.0, 0.03194184973835945, 0.0, 0.0, 0.008108774200081825, 0.035936590284109116, 0.01517579983919859, 0.0, 0.1330464780330658, 0.08068808913230896, 0.019126126542687416, 0.0, 0.0, 0.0, 0.1158025860786438, 0.0, 0.02002808451652527, 0.0, 0.0, 0.0, 0.0, 0.007032397668808699, 0.0, 0.0, 0.0463985949754715, 0.005248649511486292, 0.9417747855186462, 0.0, 0.019818753004074097, 0.0, 0.0, 0.0, 0.0077455355785787106, 0.0, 0.022312311455607414, 0.0, 0.0, 0.05965916067361832, 0.0, 0.9758198857307434, 0.0, 0.09680642187595367, 0.0, 0.0, 0.0, 0.0, 0.0, 1.0002641677856445, 0.01973237842321396, 0.0, 0.0, 0.0, 0.0, 0.0, 0.0, 0.00951080210506916, 0.0, 0.0, 0.0, 0.0, 1.029698133468628, 0.0, 0.02227252908051014, 0.0, 0.0, 0.005682853516191244, 0.13005925714969635, 0.0688890740275383, 0.012097221799194813, 0.0, 0.024527136236429214, 0.0, 0.012536429800093174, 0.008372134529054165, 0.0, 0.0, 0.0, 0.0, 0.012853880412876606, 0.055249541997909546, 0.0, 0.971329391002655, 0.0, 0.0, 0.0, 0.0, 0.036499377340078354, 0.029800577089190483, 0.0, 0.0, 1.0235627889633179, 0.0, 0.02784476801753044, 0.0006996743613854051, 0.0, 0.0064429789781570435, 0.07660681754350662, 0.009352702647447586, 0.0, 0.016022758558392525, 0.0, 0.0, 0.0, 0.008949128910899162, 0.0021522336173802614, 1.0087183713912964, 0.08005047589540482, 0.04027984291315079, 0.0, 0.0, 0.009807088412344456, 0.0008874771883711219, 0.12367065250873566, 0.03331365808844566, 0.0, 0.0, 0.015234578400850296, 0.981418251991272, 0.02505677565932274, 0.0, 0.005584098864346743, 0.025819042697548866, 0.0, 0.05783073976635933, 0.0, 0.019812077283859253, 0.7307813167572021, 0.023395435884594917, 0.0, 0.01725279539823532, 0.0, 0.004928941838443279, 0.001359993708319962, 0.0, 0.0, 0.0, 0.0, 0.013385857455432415, 0.15294359624385834, 0.017185501754283905, 0.0004074079042766243, 1.0298680067062378, 0.0, 0.0, 0.004282370209693909, 0.0, 0.004152657929807901, 0.0, 0.0, 0.06376027315855026, 0.0, 0.009142783470451832, 0.0, 0.05403239279985428, 0.0, 0.08994205296039581, 0.1253843605518341, 0.1253843605518341], [0.0, 0.008522750809788704, 0.010106261819601059, 0.007553896866738796, 0.00047736812848597765, 0.0, 0.22314897179603577, 0.0, 0.09048984944820404, 0.0, 0.0, 0.0, 0.001811520429328084, 0.0, 0.0, 0.0, 0.0, 0.0, 0.0, 0.0, 0.0, 0.0006271486054174602, 0.004804805852472782, 0.001005195896141231, 0.0, 0.0, 0.0, 0.0, 0.0, 0.0, 0.0, 0.0, 0.0, 0.0, 0.0, 0.0, 0.0, 0.0, 0.0, 0.0, 0.0, 0.0, 0.0, 0.0, 0.22531133890151978, 0.0, 0.002021560911089182, 0.0072664194740355015, 0.0, 0.0, 0.0, 0.0, 0.0, 0.0, 0.0, 0.0, 0.0, 0.0, 0.0, 0.28501808643341064, 0.03597768023610115, 0.0, 0.0, 0.11184433847665787, 0.010260365903377533, 0.0, 0.0, 0.0, 0.0, 0.0, 0.0, 0.0, 0.0, 0.0002939662372227758, 0.0, 0.0, 0.0, 0.0, 0.0, 0.0, 0.0, 0.0, 0.005879067350178957, 0.0, 0.0, 0.0, 0.0, 0.0, 0.0, 0.0, 0.0, 0.0, 0.0, 0.0, 0.3823680579662323, 0.0, 0.008651269599795341, 0.0, 0.00859731063246727, 0.009116015397012234, 0.007070838939398527, 0.002851364202797413, 0.3923758268356323, 0.0, 0.07914465665817261, 0.0, 0.0, 0.0021165700163692236, 0.3978266417980194, 0.0, 0.023536622524261475, 0.0, 0.0, 0.0, 0.0, 0.0009595237788744271, 0.0, 0.0, 0.0, 0.0, 0.0, 0.0, 0.0, 0.0033636740408837795, 0.11350777000188828, 0.0, 0.01428107637912035, 0.0, 0.0, 0.0029570197220891714, 0.008243560791015625, 0.0025028062518686056, 0.0, 0.0, 0.008784961886703968, 0.0, 0.003687049727886915, 0.004713358357548714, 0.0056521533988416195, 0.0, 0.0, 0.009653490968048573, 0.02974678762257099, 0.0011603202437981963, 0.0, 0.0, 0.002123562153428793, 0.0, 0.0, 0.4343772530555725, 0.025121498852968216, 0.12959007918834686, 0.0, 0.0, 0.0, 0.0, 0.0, 0.11785034090280533, 0.0, 0.10346747189760208, 0.0, 0.0, 0.0, 0.00841781497001648, 0.0, 0.008190728724002838, 0.0, 0.009040108881890774, 0.0009468583157286048, 0.0, 0.0, 0.0015202941140159965, 0.003973221406340599, 0.0, 0.0, 0.01735776849091053, 0.0, 0.0, 0.0, 0.0, 0.0, 0.0, 0.0, 0.0, 0.0, 0.0, 0.0, 0.029603486880660057, 0.09288178384304047, 0.0, 0.0, 0.0, 0.0, 0.0016957580810412765, 0.0, 0.4188942313194275, 0.0, 0.03149225190281868, 0.12085352838039398, 0.014766242355108261, 0.0, 0.0, 0.0, 0.0, 0.0, 0.0, 0.0, 0.0, 0.004990687593817711, 0.0091335978358984, 0.0, 0.0, 0.0, 0.019450601190328598, 0.0, 0.00024228045367635787, 0.013399245217442513, 0.0, 0.0, 0.0, 0.0, 0.0, 0.0, 0.0, 0.0, 0.02037465013563633, 0.0011637622956186533, 0.02075708843767643, 0.037005893886089325, 0.11413374543190002, 0.0, 0.00016870287072379142, 0.0, 0.0, 0.0, 0.0, 0.0, 0.0, 0.0072809308767318726, 0.0019218770321458578, 0.3859573006629944, 0.04590785503387451, 0.012062937952578068, 0.0, 0.0020516077056527138, 0.0070549543015658855, 0.39371457695961, 0.0011470289900898933, 0.03284039348363876, 0.0, 0.0, 0.0, 0.002854542573913932, 0.0, 0.0, 0.0, 0.0, 0.0, 0.006068589631468058, 0.1078021377325058, 0.0, 0.0, 0.0, 0.006260590627789497, 0.007386460900306702, 0.035167377442121506, 0.0041313450783491135, 0.06891436874866486, 0.05390641838312149, 0.0, 0.01249059196561575, 0.003811447648331523, 0.41474032402038574, 0.0, 0.0, 0.0, 0.0, 0.0, 0.00214232224971056, 0.412635862827301, 0.0, 0.0, 0.002441241405904293, 0.0, 0.0005346927209757268, 0.0, 0.0, 0.0, 0.0, 0.10052881389856339, 0.0, 0.0, 0.0, 0.012925693765282631, 0.0, 0.4113568663597107, 0.0, 0.0, 0.0, 0.0, 0.0, 0.0, 0.0, 0.0, 0.0, 0.0, 0.0013849189272150397, 0.20926052331924438, 0.0, 0.0, 0.0, 0.0029767905361950397, 0.0, 0.0, 0.0, 0.0, 0.0, 0.0, 0.0, 0.0, 0.0, 0.0, 0.0, 0.0, 0.2430105209350586, 0.0, 0.00665402552112937, 0.0, 0.0, 0.0, 0.0, 0.41650596261024475, 0.0, 0.0, 0.0, 0.004494615830481052, 0.0, 0.00436735013499856, 0.0, 0.004275225568562746, 0.0, 0.0, 0.0, 0.001733548124320805, 0.0, 0.0, 0.0, 0.018042927607893944, 0.0, 0.0, 0.0, 0.0, 0.012987213209271431, 0.0, 0.0], [0.0, 0.018110694363713264, 0.4030587673187256, 0.029086966067552567, 0.025490446016192436, 0.014046676456928253, 0.018126141279935837, 0.2791033089160919, 0.08282029628753662, 0.009787344373762608, 0.009105977602303028, 0.03239075094461441, 0.016134805977344513, 0.0, 0.0, 0.034042857587337494, 0.03796256333589554, 0.018054665997624397, 0.0, 0.008967072702944279, 0.0, 0.015991516411304474, 0.025184771046042442, 0.022437041625380516, 0.009087198413908482, 0.0019171024905517697, 0.0, 0.031986579298973083, 0.001990428427234292, 0.25201302766799927, 0.01067295577377081, 0.013920136727392673, 0.0, 0.0, 0.0, 0.011070070788264275, 0.0, 0.0, 0.0, 0.0, 0.0, 0.0, 0.0, 0.0, 0.0, 0.24376551806926727, 0.09842243045568466, 0.006062681786715984, 0.0, 0.031198501586914062, 0.0023166516330093145, 0.33765870332717896, 0.0, 0.0, 0.0, 0.0, 0.0, 0.0, 0.0, 0.0, 0.22086061537265778, 0.0, 0.0, 0.0, 0.3804340362548828, 0.0, 0.2395380735397339, 0.0, 0.4334026277065277, 0.0, 0.0, 0.0, 0.014487414620816708, 0.003792386269196868, 0.0, 0.03364778682589531, 0.0, 0.0, 0.0, 0.0, 0.0, 0.0, 0.003960779868066311, 0.010941928252577782, 0.00010607077274471521, 0.0, 0.0, 0.004933806601911783, 0.004015699028968811, 0.0, 0.0, 0.013715943321585655, 0.0, 0.0, 0.0, 0.37457895278930664, 0.007922192104160786, 0.0, 0.0, 0.04176754504442215, 0.0, 0.0, 0.0, 0.0, 0.17161111533641815, 0.0, 0.0, 0.0, 0.0, 0.03844691440463066, 0.1936355084180832, 0.0, 0.0, 0.0, 0.0, 0.0, 0.0, 0.0, 0.0, 0.0, 0.0, 0.0, 0.0, 0.0, 0.0, 0.47045907378196716, 0.032567959278821945, 0.0, 0.0, 0.003973871469497681, 0.0, 0.020672742277383804, 0.0, 0.0, 0.0, 0.0048634689301252365, 0.0, 0.0, 0.0, 0.0, 0.0, 0.0, 0.017728358507156372, 0.0, 0.0, 0.0, 0.0, 0.0, 0.0, 0.0, 0.1497928351163864, 0.0, 0.4606649875640869, 0.0, 0.0, 0.010970791801810265, 0.06542740762233734, 0.0006094101117923856, 0.5263790488243103, 0.009838777594268322, 0.015836849808692932, 0.010765296407043934, 0.013667725026607513, 0.005354601889848709, 0.0, 0.0, 0.0, 0.03670832887291908, 0.002946934662759304, 0.0, 0.0, 0.014791805297136307, 0.0, 0.003119082422927022, 0.0, 0.005550928879529238, 0.0, 0.017364321276545525, 0.0, 0.0, 0.0, 0.0, 0.0048153274692595005, 0.0, 0.011794324964284897, 0.0, 0.00044225103920325637, 0.3652835488319397, 0.0029677206184715033, 0.239309623837471, 0.0, 0.025501588359475136, 0.0, 0.035814303904771805, 0.006915638223290443, 0.0, 0.2551639676094055, 0.0819188803434372, 0.0, 0.2064952403306961, 0.0, 0.0, 0.020672965794801712, 0.0, 0.0, 0.0, 0.0, 0.0, 0.0, 0.0, 0.0, 0.0, 0.0, 0.008072619326412678, 0.0, 0.029786227270960808, 0.0, 0.0, 0.0, 0.0, 0.0, 0.006772095803171396, 0.013087731786072254, 0.0, 0.0, 0.008100074715912342, 0.0, 0.0, 0.16305087506771088, 0.0, 0.005905946716666222, 0.01975640468299389, 0.018550535663962364, 0.02394593134522438, 0.0, 0.0, 0.0, 0.0, 0.005659140180796385, 0.0, 0.0, 0.0, 0.4668792188167572, 0.0314360149204731, 0.0, 0.0, 0.0, 0.044112227857112885, 0.37159010767936707, 0.04773792624473572, 0.00631286995485425, 0.03482538461685181, 0.0, 0.011621056124567986, 0.0, 0.0, 7.961506344145164e-05, 0.0, 0.0, 0.0, 0.6053588390350342, 0.0, 0.19950850307941437, 0.0, 0.0, 0.0, 0.0, 0.09010069072246552, 0.0, 0.5412235856056213, 0.08956320583820343, 0.0, 0.0, 0.19248373806476593, 0.26310306787490845, 0.08689970523118973, 0.0, 0.053033336997032166, 0.0, 0.0, 0.18661637604236603, 0.24296823143959045, 0.5610518455505371, 0.03739909827709198, 0.0055992561392486095, 0.0, 0.02103946916759014, 0.0017175524262711406, 0.018955882638692856, 0.0, 0.6144171953201294, 0.0, 0.19789858162403107, 0.027125200256705284, 0.0, 0.0, 0.3833886682987213, 0.0, 0.1908450871706009, 0.05474638566374779, 0.0, 0.03436993062496185, 0.0, 0.0, 0.03991801291704178, 0.014198025688529015, 0.0, 0.03695124760270119, 0.25532063841819763, 0.029574060812592506, 0.031770311295986176, 0.0, 0.0, 0.0650554746389389, 0.0, 0.0, 0.04415059834718704, 0.058964673429727554, 0.06100695580244064, 0.0, 0.017547447234392166, 0.03219474479556084, 0.026586899533867836, 0.036006271839141846, 0.05534052103757858, 0.2332218736410141, 0.0, 0.0, 0.17190192639827728, 0.053296055644750595, 0.0, 0.004610042553395033, 0.5086647272109985, 0.010112639516592026, 0.0987408235669136, 0.0, 0.016663862392306328, 0.0, 0.0032882830128073692, 0.43008923530578613, 0.0, 0.022509954869747162, 0.0015147470403462648, 0.0, 0.0035656432155519724, 0.0, 0.014949033036828041, 0.0, 0.011251800693571568, 0.0, 0.015464729629456997, 0.0, 0.01236728671938181, 0.020582998171448708, 0.020582998171448708], [0.0, 0.2255282700061798, 0.2622920870780945, 0.24621742963790894, 0.23422399163246155, 0.23542553186416626, 0.4420173168182373, 1.141549825668335, 0.16695144772529602, 0.16077494621276855, 0.1346912980079651, 0.14271822571754456, 0.1434026062488556, 1.5468875169754028, 0.15876151621341705, 0.918435275554657, 0.09168373048305511, 0.15846136212348938, 0.07179513573646545, 0.0420442670583725, 0.11611352115869522, 0.1587405800819397, 0.06698679178953171, 0.04489921033382416, 0.0020572971552610397, 0.016217196360230446, 0.0, 0.008779434487223625, 0.025285763666033745, 0.0, 0.0, 0.051589470356702805, 0.01764824613928795, 0.0, 0.0069603081792593, 0.0, 0.0, 0.0, 0.010458311066031456, 0.0, 0.025559812784194946, 0.06910054385662079, 0.0104700131341815, 0.0, 0.22358611226081848, 0.8575305938720703, 0.020575428381562233, 0.0, 0.0, 0.0, 0.0, 0.012632659636437893, 0.0, 0.0, 0.0, 0.0, 0.0, 0.0018971802201122046, 0.0, 0.0, 0.40038231015205383, 0.0, 0.0, 0.0, 0.058762867003679276, 0.0, 0.0, 0.0, 0.0, 0.0, 0.0, 0.0, 0.0, 0.02680376172065735, 0.0, 0.0, 0.0, 0.0, 0.0, 0.0, 0.0, 0.0, 0.0, 0.0, 0.0, 0.0, 0.0, 0.0, 0.0, 0.0, 0.0, 0.0, 0.0, 0.0, 0.0, 0.0, 0.03143119066953659, 0.0, 0.0, 0.0, 0.04601467773318291, 0.0, 0.011126994155347347, 0.0, 0.0, 0.0, 0.02998838759958744, 0.014410571195185184, 0.029240107163786888, 0.0, 0.0, 0.008311612531542778, 0.0, 0.0, 0.0, 0.0, 0.01550689060240984, 0.0, 0.0, 0.0, 0.003818440018221736, 0.0, 0.0, 0.0, 0.0, 0.0, 0.0, 0.0, 0.0, 0.0, 0.0, 0.0, 0.0, 0.0, 0.0, 0.0, 0.04574049636721611, 0.06525980681180954, 1.4076262712478638, 0.07658550143241882, 0.01414110790938139, 0.05370396748185158, 0.017415029928088188, 0.02265165001153946, 0.0, 0.014957007952034473, 0.0, 0.027435926720499992, 0.012772558256983757, 0.006037118379026651, 0.0, 0.0, 0.0, 0.0, 0.0, 0.051533859223127365, 0.0, 0.0, 0.0, 0.0, 0.0, 0.0, 0.032196637243032455, 0.0, 0.03842059150338173, 1.3340376615524292, 0.0037963916547596455, 0.002842837478965521, 0.026445411145687103, 0.044124726206064224, 0.0, 0.04622339829802513, 1.3334920406341553, 0.0, 0.0023965188302099705, 0.021721936762332916, 0.008583508431911469, 0.0, 0.0, 0.015890808776021004, 0.0, 0.0, 0.02543223276734352, 0.019866961985826492, 0.0, 0.00458612060174346, 0.0, 0.0, 0.0, 0.0, 0.0, 0.0, 0.0035877740010619164, 0.01686275377869606, 0.0, 0.0, 0.935609757900238, 0.0020598124247044325, 0.0, 0.0, 0.0, 0.018452536314725876, 0.04562162607908249, 0.006695813965052366, 0.0, 0.046625301241874695, 0.012917827814817429, 0.04681827500462532, 1.4109095335006714, 0.0425238162279129, 0.0, 0.11079802364110947, 0.0, 0.06437380611896515, 0.0, 0.09345833957195282, 1.2647331953048706, 0.0, 0.07311949878931046, 0.06408023834228516, 0.021057387813925743, 0.055401623249053955, 0.01781858503818512, 0.0, 0.0, 0.046564601361751556, 0.04668132960796356, 1.28059720993042, 0.2077264040708542, 0.0, 0.0, 0.03818044066429138, 0.0, 0.0, 0.0, 0.0, 0.0, 0.0, 0.014329063706099987, 0.0, 0.0, 0.0, 0.12907545268535614, 0.0, 0.0, 0.020809335634112358, 0.0, 0.0, 0.15015462040901184, 0.010424868203699589, 0.0, 0.0, 0.0, 0.0, 0.0, 0.0, 0.0, 0.0, 0.0, 0.0, 0.0, 0.0, 0.0, 0.04865746572613716, 0.009049398824572563, 0.037040550261735916, 0.016763299703598022, 0.5562503933906555, 0.015982598066329956, 0.06922934204339981, 0.22188208997249603, 0.050605904310941696, 0.0, 0.0, 0.0, 0.021630648523569107, 0.033532362431287766, 0.0, 0.006481286138296127, 0.0, 0.0, 0.0, 0.02680666372179985, 0.0014746792148798704, 0.0029262483585625887, 0.0, 0.023057211190462112, 0.0, 0.0, 0.0, 0.0, 0.0, 0.0, 0.0014117190148681402, 0.012222163379192352, 0.0, 0.004147290252149105, 0.0348338782787323, 0.0, 0.0, 0.03285512700676918, 0.016194729134440422, 0.0, 0.024968072772026062, 0.06629026681184769, 0.0, 0.0, 0.2723357677459717, 0.0, 0.09430218487977982, 0.05863995850086212, 1.2758287191390991, 0.0, 0.0069532389752566814, 0.014016061089932919, 0.06270282715559006, 0.02319738082587719, 0.016663048416376114, 0.023720216006040573, 0.0, 0.03823455423116684, 0.0038282631430774927, 0.02058222144842148, 0.02758961357176304, 0.16129378974437714, 0.9462026953697205, 0.011107482947409153, 0.0, 0.0, 0.0, 0.0, 0.0, 0.0, 0.0, 0.0, 0.0, 0.018647747114300728, 1.4065279960632324, 0.02790350839495659, 0.0, 0.0, 0.06022945046424866, 0.05828208848834038, 1.4144712686538696, 0.07257571816444397, 0.019205033779144287, 0.057556990534067154, 0.033543266355991364, 0.06950441002845764, 0.0, 0.06192086264491081, 0.0, 0.022078128531575203, 0.09857072681188583, 0.09857072681188583], [0.0, 0.0029285389464348555, 0.0, 0.017471274361014366, 0.02416195161640644, 0.006180088967084885, 0.03799062967300415, 0.0, 0.13776984810829163, 0.0, 0.16250380873680115, 0.03227783367037773, 0.020353619009256363, 0.031486641615629196, 0.0019217332592234015, 0.059745464473962784, 0.7617504596710205, 0.013993881642818451, 0.5502591729164124, 0.6289946436882019, 0.024880794808268547, 0.11745262891054153, 0.18512193858623505, 0.11722765117883682, 0.0030686347745358944, 0.052820079028606415, 0.8827788233757019, 0.609932005405426, 0.005292740184813738, 0.6225436329841614, 0.013032804243266582, 0.021155254915356636, 0.0, 0.4946748912334442, 0.0, 0.642445981502533, 0.0, 0.0, 0.0, 0.0627918392419815, 0.0, 0.6105071306228638, 0.0, 1.2409411668777466, 0.0, 0.0, 0.03708295151591301, 0.0, 0.0, 0.3629319369792938, 0.0, 0.0, 0.0, 0.2785572111606598, 0.6318463683128357, 0.0, 0.0, 0.0, 0.0, 0.0, 0.0, 0.03482268005609512, 0.0038506994023919106, 0.0, 0.0, 0.0, 0.2589476406574249, 0.0, 0.06591518223285675, 0.6708471179008484, 0.0, 0.44104260206222534, 0.015629887580871582, 0.0, 0.0, 0.40748515725135803, 0.0, 0.0, 0.4123900234699249, 0.0, 0.0, 0.0, 0.0, 0.0, 0.0, 0.6641765832901001, 0.5875205397605896, 0.3522547781467438, 0.3411184847354889, 0.0, 0.5791329741477966, 0.5109149813652039, 0.0, 0.14056116342544556, 0.0, 0.0, 0.004127861931920052, 0.0, 0.6919287443161011, 0.46913963556289673, 0.0, 0.0, 0.0, 0.0, 0.1838463544845581, 0.0, 0.6081624031066895, 0.0, 0.0, 0.530225396156311, 0.3142737150192261, 0.0, 0.008491442538797855, 0.7172839641571045, 0.6687816977500916, 0.0, 0.0, 0.00546675082296133, 0.2074149250984192, 0.8608649373054504, 0.21342989802360535, 0.9294847249984741, 0.0, 0.1343538761138916, 0.0, 0.07316001504659653, 0.02140698954463005, 0.0371280238032341, 0.012495509348809719, 0.4614510238170624, 0.26635250449180603, 0.3361996114253998, 0.004719236865639687, 0.6990058422088623, 0.4053347408771515, 0.44921377301216125, 0.027599066495895386, 0.02507942169904709, 0.016843654215335846, 0.0, 0.0, 0.37354958057403564, 0.5642403960227966, 0.0, 0.0, 0.7360224723815918, 0.8539770245552063, 0.0, 0.0, 0.05075501650571823, 0.3344823122024536, 0.0, 0.11798717081546783, 0.0, 0.10229835659265518, 0.008131003938615322, 0.16301855444908142, 0.0, 0.040612153708934784, 0.0014818005729466677, 0.007970951497554779, 0.08295560628175735, 0.07424566149711609, 0.01643821969628334, 0.0, 0.013229208067059517, 0.0, 0.23299400508403778, 0.050000473856925964, 0.0, 0.24552571773529053, 0.01764649897813797, 0.0, 0.2508911192417145, 0.0, 0.0, 0.0, 0.39875102043151855, 0.0, 0.0, 0.7287715077400208, 0.0, 0.0, 0.0, 0.3537501394748688, 0.0, 0.48362433910369873, 0.19230350852012634, 0.0, 0.137328639626503, 0.0, 0.2402203232049942, 0.0, 0.08290144056081772, 0.0014510366600006819, 0.0, 0.0, 0.1088298112154007, 0.0, 0.19415535032749176, 0.0, 0.0, 0.0, 0.0, 0.4404398798942566, 0.0, 0.0, 0.0, 0.0, 0.0, 0.0, 0.0, 0.0, 0.0, 0.08185800909996033, 0.057731155306100845, 0.0, 0.0, 0.0, 0.0, 0.6154584884643555, 0.010200394317507744, 0.21946890652179718, 0.0, 0.0, 0.0, 0.0, 0.0, 0.18752390146255493, 0.0, 0.0, 0.0, 0.38911083340644836, 0.3301551640033722, 0.0, 0.6507924795150757, 0.0, 0.0, 0.0, 0.0, 0.0, 0.0, 0.0, 0.412238210439682, 0.0, 0.0, 0.0, 0.37689825892448425, 0.0, 0.007853375747799873, 0.8605677485466003, 0.0, 0.0, 0.3752257227897644, 0.48061227798461914, 0.23228484392166138, 0.27884650230407715, 0.0, 0.0, 0.0, 0.031159192323684692, 0.0, 0.13246649503707886, 0.0, 0.0, 0.0, 0.0, 0.0, 0.0, 0.0, 0.075105220079422, 0.0, 0.0, 0.48298701643943787, 0.2462790459394455, 0.38669148087501526, 0.0, 0.6117315888404846, 0.0, 0.0, 0.4622563421726227, 0.23714905977249146, 0.17713426053524017, 0.18607056140899658, 0.0, 0.0, 0.3299747705459595, 0.0, 0.0, 0.0, 0.021403828635811806, 0.0, 0.1269609034061432, 0.04301515966653824, 0.0, 0.0, 0.08329661190509796, 0.0, 0.5942400097846985, 0.14174945652484894, 0.0, 0.23178282380104065, 0.0, 0.0, 0.0, 0.0, 0.07431209087371826, 0.021501949056982994, 0.5810750722885132, 0.019510863348841667, 0.08672260493040085, 0.0, 0.0, 0.549631655216217, 0.0, 0.0, 0.2603054344654083, 0.45860937237739563, 0.03816580772399902, 0.0, 0.0, 0.04800748825073242, 0.43439847230911255, 0.03192797303199768, 0.02709236554801464, 0.0, 0.0, 0.0, 0.6324142217636108, 0.18994875252246857, 0.0, 0.0, 0.3017735779285431, 0.0, 0.2950759828090668, 0.05708274617791176, 0.013194091618061066, 0.0, 0.0, 0.27145975828170776, 0.0, 0.0, 0.0, 0.015303571708500385, 0.0, 0.13816861808300018, 0.0, 0.0, 0.0, 0.5693987607955933, 0.04302830994129181, 0.22954396903514862, 0.05909278616309166, 0.051903363317251205, 0.051903363317251205]]]})\n",
              "         }, function (err) {\n",
              "            console.log(err);\n",
              "        })"
            ],
            "text/plain": [
              "<IPython.core.display.Javascript object>"
            ]
          },
          "metadata": {
            "tags": []
          }
        }
      ]
    },
    {
      "cell_type": "code",
      "metadata": {
        "id": "7LQfXD3eOWxl"
      },
      "source": [
        ""
      ],
      "execution_count": null,
      "outputs": []
    }
  ]
}